{
  "nbformat": 4,
  "nbformat_minor": 0,
  "metadata": {
    "colab": {
      "name": "Iterative/looping.ipynb",
      "provenance": [],
      "collapsed_sections": []
    },
    "kernelspec": {
      "name": "python3",
      "display_name": "Python 3"
    },
    "language_info": {
      "name": "python"
    }
  },
  "cells": [
    {
      "cell_type": "markdown",
      "source": [
        "**ITERATIVE/LOOPING PROBLEMS USING PYTHON**"
      ],
      "metadata": {
        "id": "OBVP8APujMoP"
      }
    },
    {
      "cell_type": "markdown",
      "source": [
        "1.Reverse of a given number"
      ],
      "metadata": {
        "id": "Pd9yc12tjzsE"
      }
    },
    {
      "cell_type": "code",
      "source": [
        "n =int(input('Enter a number: '))\n",
        "\n",
        "Rev = 0\n",
        "\n",
        "while (n>0):\n",
        "  digit = n%10\n",
        "  Rev = Rev*10 + digit\n",
        "  n//=10\n",
        "print(\"The reverse is \" ,Rev)\n"
      ],
      "metadata": {
        "colab": {
          "base_uri": "https://localhost:8080/"
        },
        "id": "hyLQzePFp0EM",
        "outputId": "b730cadc-f2b9-48da-df4f-cb79531288dc"
      },
      "execution_count": null,
      "outputs": [
        {
          "output_type": "stream",
          "name": "stdout",
          "text": [
            "Enter a number: 123\n",
            "The reverse is  321\n"
          ]
        }
      ]
    },
    {
      "cell_type": "markdown",
      "source": [
        "2.Sum of first n natural numbers"
      ],
      "metadata": {
        "id": "r7uwWqeeuV26"
      }
    },
    {
      "cell_type": "code",
      "source": [
        "n = int(input('Enter limit '))\n",
        "Sum = 0 \n",
        "\n",
        "for i in range(1,n+1):\n",
        "  Sum = Sum+i\n",
        "print('Sum of first n natural numbers is : ',Sum)\n",
        "\n"
      ],
      "metadata": {
        "colab": {
          "base_uri": "https://localhost:8080/"
        },
        "id": "zv7D8jEduc12",
        "outputId": "a48beaf1-e0f1-4cae-8ac5-9f43b93107f6"
      },
      "execution_count": null,
      "outputs": [
        {
          "output_type": "stream",
          "name": "stdout",
          "text": [
            "Enter limit 6\n",
            "Sum of first n natural numbers is :  21\n"
          ]
        }
      ]
    },
    {
      "cell_type": "markdown",
      "source": [
        "3.Sum of factors of a number\n"
      ],
      "metadata": {
        "id": "VqSDFp40wFUO"
      }
    },
    {
      "cell_type": "code",
      "source": [
        "n = int(input('Enter a number : '))\n",
        "sum = 0 \n",
        "f = 1\n",
        "print('Factors are : ')\n",
        "for  f in range(1,n+1):\n",
        " if n%f==0:\n",
        "   print(f,end=' ')\n",
        "   sum =sum+f\n",
        "\n",
        "print ('\\nSum of factors is : ',sum)    "
      ],
      "metadata": {
        "colab": {
          "base_uri": "https://localhost:8080/"
        },
        "id": "mfkAkN4OwM8O",
        "outputId": "165f70d1-3755-4bc9-9591-f7fb9e8a7ded"
      },
      "execution_count": null,
      "outputs": [
        {
          "output_type": "stream",
          "name": "stdout",
          "text": [
            "Enter a number : 5\n",
            "Factors are : \n",
            "1 5 \n",
            "Sum of factors is :  6\n"
          ]
        }
      ]
    },
    {
      "cell_type": "markdown",
      "source": [
        "4.print N terms of an arithmetic sequence "
      ],
      "metadata": {
        "id": "AtgD6e3szXe7"
      }
    },
    {
      "cell_type": "code",
      "source": [
        "n = int(input(\"Enter number of terms : \"))\n",
        "d = int(input(\"Enter common difference \"))\n",
        "a = int(input(\"Enter first term of AP \"))\n",
        "i = 0\n",
        "m = 0\n",
        "\n",
        "print('AP IS : ')\n",
        "while n>i:\n",
        "  i = i+1\n",
        "  m = a+((i-1)*d)\n",
        "  print(m,end=\" \")"
      ],
      "metadata": {
        "colab": {
          "base_uri": "https://localhost:8080/"
        },
        "id": "3lBNI6tRzX9P",
        "outputId": "c074c887-8288-493c-9b81-53b984c9e3ff"
      },
      "execution_count": null,
      "outputs": [
        {
          "output_type": "stream",
          "name": "stdout",
          "text": [
            "Enter number of terms : 5\n",
            "Enter common difference 5\n",
            "Enter first term of AP 5\n",
            "AP IS : \n",
            "5 10 15 20 25 "
          ]
        }
      ]
    },
    {
      "cell_type": "markdown",
      "source": [
        "5.print N terms of fibonacci series"
      ],
      "metadata": {
        "id": "OEy3XEsnzpH6"
      }
    },
    {
      "cell_type": "code",
      "source": [
        "n = int(input(\"Enter the limit : \"))\n",
        "f1 = 0\n",
        "f2 = 1\n",
        "f3 = 2\n",
        "print(f1)\n",
        "print(f2)\n",
        "while n>=2:\n",
        "  temp = f1\n",
        "  f1 = f2\n",
        "  f2 = f2+temp\n",
        "  print(f2)\n",
        "  n = n-1"
      ],
      "metadata": {
        "colab": {
          "base_uri": "https://localhost:8080/"
        },
        "id": "4bV7XTBVzpZX",
        "outputId": "c9e26628-2381-48be-dc55-9439e4e726e3"
      },
      "execution_count": null,
      "outputs": [
        {
          "output_type": "stream",
          "name": "stdout",
          "text": [
            "Enter the limit : 6\n",
            "0\n",
            "1\n",
            "1\n",
            "2\n",
            "3\n",
            "5\n",
            "8\n"
          ]
        }
      ]
    },
    {
      "cell_type": "markdown",
      "source": [
        "6.Chcek whether palindrome or not."
      ],
      "metadata": {
        "id": "kaMe5DrK0BVR"
      }
    },
    {
      "cell_type": "code",
      "source": [
        "n = int(input('Enter a number : '))\n",
        "temp = n\n",
        "Rev = 0\n",
        "while (n>0):\n",
        "  digit = n%10\n",
        "  Rev = Rev*10+digit\n",
        "  n = n//10\n",
        "if(temp==Rev):\n",
        "   print(\"The number is palindrome.\")\n",
        "  \n",
        "else:\n",
        " print(\"The number is not palindrome\")  "
      ],
      "metadata": {
        "colab": {
          "base_uri": "https://localhost:8080/"
        },
        "id": "YJBiDhHC0Gcr",
        "outputId": "e9abf721-4e3a-468d-b6df-0463f34c82e9"
      },
      "execution_count": null,
      "outputs": [
        {
          "output_type": "stream",
          "name": "stdout",
          "text": [
            "Enter a number : 1221\n",
            "The number is palindrome.\n"
          ]
        }
      ]
    },
    {
      "cell_type": "markdown",
      "source": [
        "7.Check whether armstrong number or not."
      ],
      "metadata": {
        "id": "UQ_AoRHe0LwH"
      }
    },
    {
      "cell_type": "code",
      "source": [
        "n = int(input('Enter a number : '))\n",
        "sum = 0\n",
        "temp = n\n",
        "while temp>0:\n",
        "    digit = temp%10\n",
        "    sum += digit**3\n",
        "    temp = temp//10\n",
        "if(n == sum):\n",
        "    print(n,\"is an armstrong number\")\n",
        "else:\n",
        "    print(n,\"is not an armstrong number\")"
      ],
      "metadata": {
        "colab": {
          "base_uri": "https://localhost:8080/"
        },
        "id": "Pop2uESL0RTy",
        "outputId": "79d20a46-45b8-4ae8-ebdf-584018c996eb"
      },
      "execution_count": null,
      "outputs": [
        {
          "output_type": "stream",
          "name": "stdout",
          "text": [
            "Enter a number : 153\n",
            "153 is an armstrong number\n"
          ]
        }
      ]
    },
    {
      "cell_type": "markdown",
      "source": [
        "8.Write a program to evaluate x^n."
      ],
      "metadata": {
        "id": "D-X17NAA0aQ1"
      }
    },
    {
      "cell_type": "code",
      "source": [
        "x = int(input('Enter : '))\n",
        "n = int(input('Enter value of exponent : '))\n",
        "value = x**n\n",
        "print(\"x^n : \",value)"
      ],
      "metadata": {
        "colab": {
          "base_uri": "https://localhost:8080/"
        },
        "id": "hfnL0Kvr0eJL",
        "outputId": "27e2b8f6-146f-4cc8-84ad-c13271c6de7b"
      },
      "execution_count": null,
      "outputs": [
        {
          "output_type": "stream",
          "name": "stdout",
          "text": [
            "Enter : 7\n",
            "Enter value of exponent : 2\n",
            "x^n :  49\n"
          ]
        }
      ]
    },
    {
      "cell_type": "markdown",
      "source": [
        "9.Print first n odd numbers."
      ],
      "metadata": {
        "id": "NTqFB4_y0kNT"
      }
    },
    {
      "cell_type": "code",
      "source": [
        "n = int(input('Enter the limit : '))\n",
        "i = 1\n",
        "print(\"Odd numbers are : \")\n",
        "for i in range(1,n+1,2):\n",
        "\n",
        "  print(i,end=' ')"
      ],
      "metadata": {
        "colab": {
          "base_uri": "https://localhost:8080/"
        },
        "id": "NikP5BTM0oaz",
        "outputId": "c7315317-7940-421e-8bec-3f33a09303a1"
      },
      "execution_count": null,
      "outputs": [
        {
          "output_type": "stream",
          "name": "stdout",
          "text": [
            "Enter the limit : 20\n",
            "Odd numbers are : \n",
            "1 3 5 7 9 11 13 15 17 19 "
          ]
        }
      ]
    },
    {
      "cell_type": "markdown",
      "source": [
        "10.Find first GCD of 2 numbers"
      ],
      "metadata": {
        "id": "XCX5VX-KHzap"
      }
    },
    {
      "cell_type": "code",
      "source": [
        "n1=int(input('Enter the first number : '))\n",
        "n2=int(input('Enter the second number : '))\n",
        "gcd=0\n",
        "c=0\n",
        "while(c<n1):\n",
        "  c=c+1\n",
        "  if(n1%c==0 and n2%c==0):\n",
        "    gcd=c\n",
        "if(gcd==0):\n",
        "  print('No GCD')\n",
        "else:\n",
        "  print('GCD is : ',gcd)"
      ],
      "metadata": {
        "colab": {
          "base_uri": "https://localhost:8080/",
          "height": 0
        },
        "id": "Zu1rUcgIH5Gi",
        "outputId": "746c50aa-f107-4574-c20f-18d8befae3de"
      },
      "execution_count": 1,
      "outputs": [
        {
          "output_type": "stream",
          "name": "stdout",
          "text": [
            "Enter the first number : 144\n",
            "Enter the second number : 344\n",
            "GCD is :  8\n"
          ]
        }
      ]
    },
    {
      "cell_type": "markdown",
      "source": [
        "11.Print factorial of a given number."
      ],
      "metadata": {
        "id": "kdiysc0yH_d9"
      }
    },
    {
      "cell_type": "code",
      "source": [
        "num=int(input('Enter the number : '))\n",
        "n=1\n",
        "if(num==0):\n",
        "  print('Factorial of the number is 1')\n",
        "else:\n",
        "  while(num>1):\n",
        "    n=n*num\n",
        "    num=num-1\n",
        "  print('Factorial of the number is : ',n)"
      ],
      "metadata": {
        "colab": {
          "base_uri": "https://localhost:8080/",
          "height": 0
        },
        "id": "rql-9Z-dIIrm",
        "outputId": "4e51302a-3918-433f-e19d-8fe2dd283e7c"
      },
      "execution_count": 2,
      "outputs": [
        {
          "output_type": "stream",
          "name": "stdout",
          "text": [
            "Enter the number : 595\n",
            "Factorial of the number is :  165495854129254607236210980301003884312113752435909069717866265264938251190648678441353540720600090532875186810338642507488137896766035968221539296744717218245180144282895385716832190123879548166980843509297184472963895299079213553877300060562216280035878557668196916364677027647767758488404954638631729566469172210723066820264990647773001844010797690746568248587110127489414793077369353777970601724747854893460281958203277389383511842139641388593374139744476691982888343678054282922057870804741798152147101765216677511765615722557707123942781752658801004086276453895725636874891212550501116665626307390867560560142100123883617148717687130026075902219776406164831754259793857802124712980463237563850581758650091360406614108851808073511244007931750582638583394688145502274133797562211110553040261620375892257112244681134241936777668579391811413553416844811311259157486805533529694982789598511733636076300210833514045181194870840102466288796122349963863107397026725408832511539754187556258278920300565713495300978254686974482637018525190135667835144691329283117362883029826634763983785866468948460974484117302918415021464823761182644944022053577232683459783992243226067993890863218856780137351704472667707870847163350699573419858800489576882281801318400000000000000000000000000000000000000000000000000000000000000000000000000000000000000000000000000000000000000000000000000000000000000000000000000\n"
          ]
        }
      ]
    },
    {
      "cell_type": "markdown",
      "source": [
        "12.Sequence"
      ],
      "metadata": {
        "id": "JSuQ2_5HIP3d"
      }
    },
    {
      "cell_type": "code",
      "source": [
        "num1=int(input('Enter the first number : '))\n",
        "num2=int(input('Enter the last number : '))\n",
        "while(num1<=num2):\n",
        "  sqr=num1*num1\n",
        "  num1=num1+1\n",
        "  print(sqr)\n"
      ],
      "metadata": {
        "colab": {
          "base_uri": "https://localhost:8080/",
          "height": 0
        },
        "id": "2nhcGDolIXlv",
        "outputId": "579346d9-4a74-4c9d-ded4-0cd4a850f475"
      },
      "execution_count": 9,
      "outputs": [
        {
          "output_type": "stream",
          "name": "stdout",
          "text": [
            "Enter the first number : 3\n",
            "Enter the last number : 9\n",
            "9\n",
            "16\n",
            "25\n",
            "36\n",
            "49\n",
            "64\n",
            "81\n"
          ]
        }
      ]
    },
    {
      "cell_type": "markdown",
      "source": [
        "13.Sum of terms"
      ],
      "metadata": {
        "id": "NwRyJIXbIsxa"
      }
    },
    {
      "cell_type": "code",
      "source": [
        "n=int(input('Enter the number of terms : '))\n",
        "c=1\n",
        "sum=0\n",
        "sign=1\n",
        "while(c<=n):\n",
        "  temp=sign*(c**2)\n",
        "  sum=sum+temp\n",
        "  sign=sign*(-1)\n",
        "  c=c+1\n",
        "print('Toyal sum is : ',sum)"
      ],
      "metadata": {
        "colab": {
          "base_uri": "https://localhost:8080/",
          "height": 0
        },
        "id": "FMzRdxzbIt3V",
        "outputId": "ea6c2f8a-2e96-4081-c45c-d62c679fb210"
      },
      "execution_count": 5,
      "outputs": [
        {
          "output_type": "stream",
          "name": "stdout",
          "text": [
            "Enter the number of terms : 45\n",
            "Toyal sum is :  1035\n"
          ]
        }
      ]
    },
    {
      "cell_type": "markdown",
      "source": [
        "14.Automorphic"
      ],
      "metadata": {
        "id": "V2Pyha4MIzwW"
      }
    },
    {
      "cell_type": "code",
      "source": [
        "num=int(input('Enter the num : '))\n",
        "c=0\n",
        "sqr=num*num\n",
        "temp=num\n",
        "while(temp>=1):\n",
        "  c=c+1\n",
        "  temp=temp//10\n",
        "if(num==sqr%10**c):\n",
        "  print(num,' is Automorphic')\n",
        "else:\n",
        "  print(num,' is not Auotomorphic')"
      ],
      "metadata": {
        "colab": {
          "base_uri": "https://localhost:8080/",
          "height": 0
        },
        "id": "HKs-BKG1I5aC",
        "outputId": "b86cf3de-8a98-477d-ccff-b2a49bbe7a6e"
      },
      "execution_count": 6,
      "outputs": [
        {
          "output_type": "stream",
          "name": "stdout",
          "text": [
            "Enter the num : 56\n",
            "56  is not Auotomorphic\n"
          ]
        }
      ]
    },
    {
      "cell_type": "markdown",
      "source": [
        "15.Binary"
      ],
      "metadata": {
        "id": "OmaA82umI_PN"
      }
    },
    {
      "cell_type": "code",
      "source": [
        "bi=int(input('Enter the binary number : '))\n",
        "c=0\n",
        "deci=0\n",
        "while(bi>=1):\n",
        "  remn=bi%10\n",
        "  bi=bi//10\n",
        "  deci=deci+remn*2**c\n",
        "  c=c+1\n",
        "print('Dcimal number is : ',deci)"
      ],
      "metadata": {
        "colab": {
          "base_uri": "https://localhost:8080/",
          "height": 0
        },
        "id": "F1kkzrJ0JE2q",
        "outputId": "c57fe30a-e6a8-4875-adb3-b691702f49df"
      },
      "execution_count": 7,
      "outputs": [
        {
          "output_type": "stream",
          "name": "stdout",
          "text": [
            "Enter the binary number : 56\n",
            "Dcimal number is :  16\n"
          ]
        }
      ]
    }
  ]
}