{
  "nbformat": 4,
  "nbformat_minor": 0,
  "metadata": {
    "colab": {
      "name": "Python lab1 Quo3.ipynb",
      "provenance": []
    },
    "kernelspec": {
      "name": "python3",
      "display_name": "Python 3"
    },
    "language_info": {
      "name": "python"
    }
  },
  "cells": [
    {
      "cell_type": "markdown",
      "source": [
        "Develop a program to read the employee's name, code, and basic pay\n",
        "and calculate the gross salary, deduction, and net salary according to\n",
        "the following conditions. Define a function to find each of the \n",
        "components. Finally, generate a payslip.\n"
      ],
      "metadata": {
        "id": "1oOrLvW7VpQx"
      }
    },
    {
      "cell_type": "code",
      "execution_count": null,
      "metadata": {
        "id": "i5mv-C7sVnwG"
      },
      "outputs": [],
      "source": [
        "def edetail():\n",
        "  name=str(input('Enter the name of employee'))\n",
        "  code=int(input('Enter the code of employee'))\n",
        "  Bpay=int(input('Enter the basic pay of employee'))\n",
        "  print('**********PAYMENT SLIP**********')\n",
        "  print('Name of the employee:',name)\n",
        "  print('Code of the employee:',code)\n",
        "  print('Basic pay of the employee',Bpay)\n",
        "  return name,code,Bpay\n",
        "\n",
        "def cal():\n",
        "  name,code,Bpay=edetail()\n",
        "  if Bpay<10000:\n",
        "    GrossSalary= (Bpay+(5*2.5)+500)\n",
        "    Deduction=(20+8+0)\n",
        "    Netsalary=(GrossSalary-Deduction)\n",
        "    print('Gross salary=',GrossSalary)\n",
        "    print('Deduction=',Deduction)\n",
        "    print('Net Salary=',NetSalary)\n",
        "  elif Bpay>10000 and Bpay<30000:\n",
        "    GrossSalary= (Bpay+(7.5*5)+2500) \n",
        "    Deduction=(60+8+0)\n",
        "    NetSalary=(GrossSalary-Deduction)\n",
        "    print('Gross salary=',GrossSalary)\n",
        "    print('Deduction=',Deduction)\n",
        "    print('Net Salary=',NetSalary)\n",
        "  elif Bpay>30000 and Bpay<50000:\n",
        "    GrossSalary= (Bpay+(11*7.5+5000)) \n",
        "    Deduction=(60+11+11)\n",
        "    NetSalary=(GrossSalary-Deduction)\n",
        "    print('Gross salary=',GrossSalary)\n",
        "    print('Deduction=',Deduction)\n",
        "    print('Net Salary=',NetSalary)\n",
        "  else :\n",
        "    GrossSalary= (Bpay+(25*11+7000))\n",
        "    Deduction=(80+12+20)\n",
        "    NetSalary=(GrossSalary-Deduction)\n",
        "    print('Gross salary=',GrossSalary)\n",
        "    print('Deduction=',Deduction)\n",
        "    print('Net Salary=',NetSalary)\n",
        "cal()"
      ]
    }
  ]
}