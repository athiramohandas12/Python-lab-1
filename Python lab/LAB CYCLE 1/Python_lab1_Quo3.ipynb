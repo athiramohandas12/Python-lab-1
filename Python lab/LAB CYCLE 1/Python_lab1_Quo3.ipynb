{
  "nbformat": 4,
  "nbformat_minor": 0,
  "metadata": {
    "colab": {
      "name": "Python lab1 Quo3.ipynb",
      "provenance": []
    },
    "kernelspec": {
      "name": "python3",
      "display_name": "Python 3"
    },
    "language_info": {
      "name": "python"
    }
  },
  "cells": [
    {
      "cell_type": "markdown",
      "source": [
        "<style type=\"text/css\">\n",
        ".tg  {border-collapse:collapse;border-spacing:0;}\n",
        ".tg td{border-color:black;border-style:solid;border-width:1px;font-family:Arial, sans-serif;font-size:14px;\n",
        "  overflow:hidden;padding:10px 5px;word-break:normal;}\n",
        ".tg th{border-color:black;border-style:solid;border-width:1px;font-family:Arial, sans-serif;font-size:14px;\n",
        "  font-weight:normal;overflow:hidden;padding:10px 5px;word-break:normal;}\n",
        ".tg .tg-0pky{border-color:inherit;text-align:left;vertical-align:top}\n",
        "</style>\n",
        "<table class=\"tg\">\n",
        "<thead>\n",
        "  <tr>\n",
        "    <th class=\"tg-0pky\">Test case <br>no</th>\n",
        "    <th class=\"tg-0pky\">Description</th>\n",
        "    <th class=\"tg-0pky\">Input</th>\n",
        "    <th class=\"tg-0pky\">Expected output</th>\n",
        "    <th class=\"tg-0pky\">Actual Output</th>\n",
        "    <th class=\"tg-0pky\">Result</th>\n",
        "  </tr>\n",
        "</thead>\n",
        "<tbody>\n",
        "  <tr>\n",
        "    <td class=\"tg-0pky\">1</td>\n",
        "    <td class=\"tg-0pky\">Check whether this program is correct</td>\n",
        "    <td class=\"tg-0pky\">Ali<br>263<br>50000</td>\n",
        "    <td class=\"tg-0pky\">Gross salary 57275<br>Deduction=112<br>Net salary=57163</td>\n",
        "    <td class=\"tg-0pky\">Gross salary 57275<br>Deduction=112<br>Net salary=57163</td>\n",
        "    <td class=\"tg-0pky\">passed</td>\n",
        "  </tr>\n",
        "</tbody>\n",
        "</table>"
      ],
      "metadata": {
        "id": "NLsS9LelmyFx"
      }
    },
    {
      "cell_type": "markdown",
      "source": [
        "Develop a program to read the employee's name, code, and basic pay\n",
        "and calculate the gross salary, deduction, and net salary according to\n",
        "the following conditions. Define a function to find each of the \n",
        "components. Finally, generate a payslip.\n"
      ],
      "metadata": {
        "id": "1oOrLvW7VpQx"
      }
    },
    {
      "cell_type": "code",
      "execution_count": null,
      "metadata": {
        "id": "i5mv-C7sVnwG",
        "colab": {
          "base_uri": "https://localhost:8080/"
        },
        "outputId": "a8d51cea-8d07-402c-9ffc-02f37a59d34d"
      },
      "outputs": [
        {
          "output_type": "stream",
          "name": "stdout",
          "text": [
            "Enter the name of employeeali\n",
            "Enter the code of employee263\n",
            "Enter the basic pay of employee50000\n",
            "**********PAYMENT SLIP**********\n",
            "Name of the employee: ali\n",
            "Code of the employee: 263\n",
            "Basic pay of the employee 50000\n",
            "Gross salary= 57275\n",
            "Deduction= 112\n",
            "Net Salary= 57163\n"
          ]
        }
      ],
      "source": [
        "def edetail():\n",
        "  name=str(input('Enter the name of employee'))\n",
        "  code=int(input('Enter the code of employee'))\n",
        "  Bpay=int(input('Enter the basic pay of employee'))\n",
        "  print('**********PAYMENT SLIP**********')\n",
        "  print('Name of the employee:',name)\n",
        "  print('Code of the employee:',code)\n",
        "  print('Basic pay of the employee',Bpay)\n",
        "  return name,code,Bpay\n",
        "\n",
        "def cal():\n",
        "  name,code,Bpay=edetail()\n",
        "  if Bpay<10000:\n",
        "    GrossSalary= (Bpay+(5*2.5)+500)\n",
        "    Deduction=(20+8+0)\n",
        "    Netsalary=(GrossSalary-Deduction)\n",
        "    print('Gross salary=',GrossSalary)\n",
        "    print('Deduction=',Deduction)\n",
        "    print('Net Salary=',NetSalary)\n",
        "  elif Bpay>10000 and Bpay<30000:\n",
        "    GrossSalary= (Bpay+(7.5*5)+2500) \n",
        "    Deduction=(60+8+0)\n",
        "    NetSalary=(GrossSalary-Deduction)\n",
        "    print('Gross salary=',GrossSalary)\n",
        "    print('Deduction=',Deduction)\n",
        "    print('Net Salary=',NetSalary)\n",
        "  elif Bpay>30000 and Bpay<50000:\n",
        "    GrossSalary= (Bpay+(11*7.5+5000)) \n",
        "    Deduction=(60+11+11)\n",
        "    NetSalary=(GrossSalary-Deduction)\n",
        "    print('Gross salary=',GrossSalary)\n",
        "    print('Deduction=',Deduction)\n",
        "    print('Net Salary=',NetSalary)\n",
        "  else :\n",
        "    GrossSalary= (Bpay+(25*11+7000))\n",
        "    Deduction=(80+12+20)\n",
        "    NetSalary=(GrossSalary-Deduction)\n",
        "    print('Gross salary=',GrossSalary)\n",
        "    print('Deduction=',Deduction)\n",
        "    print('Net Salary=',NetSalary)\n",
        "cal()"
      ]
    }
  ]
}