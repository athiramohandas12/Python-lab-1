{
  "nbformat": 4,
  "nbformat_minor": 0,
  "metadata": {
    "colab": {
      "name": "Python Lab 1 Quo:4.ipynb",
      "provenance": []
    },
    "kernelspec": {
      "name": "python3",
      "display_name": "Python 3"
    },
    "language_info": {
      "name": "python"
    }
  },
  "cells": [
    {
      "cell_type": "markdown",
      "source": [
        "<style type=\"text/css\">\n",
        ".tg  {border-collapse:collapse;border-spacing:0;}\n",
        ".tg td{border-color:black;border-style:solid;border-width:1px;font-family:Arial, sans-serif;font-size:14px;\n",
        "  overflow:hidden;padding:10px 5px;word-break:normal;}\n",
        ".tg th{border-color:black;border-style:solid;border-width:1px;font-family:Arial, sans-serif;font-size:14px;\n",
        "  font-weight:normal;overflow:hidden;padding:10px 5px;word-break:normal;}\n",
        ".tg .tg-0pky{border-color:inherit;text-align:left;vertical-align:top}\n",
        ".tg .tg-0lax{text-align:left;vertical-align:top}\n",
        "</style>\n",
        "<table class=\"tg\">\n",
        "<thead>\n",
        "  <tr>\n",
        "    <th class=\"tg-0pky\">Test case <br>no</th>\n",
        "    <th class=\"tg-0pky\">Description</th>\n",
        "    <th class=\"tg-0pky\">Input</th>\n",
        "    <th class=\"tg-0pky\">Expected output</th>\n",
        "    <th class=\"tg-0pky\">Actual Output</th>\n",
        "    <th class=\"tg-0pky\">Result</th>\n",
        "  </tr>\n",
        "</thead>\n",
        "<tbody>\n",
        "  <tr>\n",
        "    <td class=\"tg-0pky\">1</td>\n",
        "    <td class=\"tg-0pky\">Check whether this program is correct</td>\n",
        "    <td class=\"tg-0pky\">13<br>2-13<br>3</td>\n",
        "    <td class=\"tg-0pky\">Happy<br>7,10,13<br>1,7,10</td>\n",
        "    <td class=\"tg-0pky\">Happy<br>7,10,13<br>1,7,10</td>\n",
        "    <td class=\"tg-0pky\">passed</td>\n",
        "  </tr>\n",
        "  <tr>\n",
        "    <td class=\"tg-0lax\">2</td>\n",
        "    <td class=\"tg-0lax\">Check whether this program is correct</td>\n",
        "    <td class=\"tg-0lax\">2<br>1-10<br>4</td>\n",
        "    <td class=\"tg-0lax\">Sad<br>1,7,10<br>1,7,10,13</td>\n",
        "    <td class=\"tg-0lax\">Sad<br>1,7,10<br>1,7,10,13</td>\n",
        "    <td class=\"tg-0lax\">passed</td>\n",
        "  </tr>\n",
        "</tbody>\n",
        "</table>"
      ],
      "metadata": {
        "id": "RM7TAlQGof7T"
      }
    },
    {
      "cell_type": "code",
      "source": [
        "\n",
        "a = int(input(\"Enter a number \"))\n",
        "def is_happy(a):\n",
        "    num = a\n",
        "    for i in range(100):\n",
        "        s = 0\n",
        "        while num!= 0:\n",
        "            r = num%10\n",
        "            s += r*r\n",
        "            num = num//10\n",
        "        num = s\n",
        "        if s == 1:\n",
        "           return True\n",
        "    return False\n",
        "if is_happy(a) == True:\n",
        "    print(\"Happy\")\n",
        "else:\n",
        "    print(\"Sad\")\n",
        "def h_range():\n",
        "    r1=int(input(\"\\nEnter starting range: \"))\n",
        "    r2=int(input(\"Enter end range: \"))\n",
        "    print(\"\\nHappy numbers from \",r1,\" to \",r2,\" are: \")\n",
        "    for i in range(r1,r2+1):\n",
        "        if is_happy(i)==True:\n",
        "           print(i)\n",
        "h_range()\n",
        "\n",
        "def n_happy():\n",
        "    n = int(input(\"\\nEnter how many happy numbers do you want to print: \"))\n",
        "    print(\"First \",n,\" happy numbers are: \")\n",
        "    i=0\n",
        "    while n != 0:\n",
        "        i += 1\n",
        "        if is_happy(i) == True:\n",
        "            n -= 1\n",
        "            print(i)\n",
        "n_happy()\n",
        "\n",
        "    "
      ],
      "metadata": {
        "id": "1_vDYgJxvsuw",
        "outputId": "85b36355-6680-4115-e912-0bcf09d803d8",
        "colab": {
          "base_uri": "https://localhost:8080/"
        }
      },
      "execution_count": null,
      "outputs": [
        {
          "output_type": "stream",
          "name": "stdout",
          "text": [
            "Enter a number 13\n",
            "Happy\n",
            "\n",
            "Enter starting range: 2\n",
            "Enter end range: 35\n",
            "\n",
            "Happy numbers from  2  to  35  are: \n",
            "7\n",
            "10\n",
            "13\n",
            "19\n",
            "23\n",
            "28\n",
            "31\n",
            "32\n",
            "\n",
            "Enter how many happy numbers do you want to print: 4\n",
            "First  4  happy numbers are: \n",
            "1\n",
            "7\n",
            "10\n",
            "13\n"
          ]
        }
      ]
    },
    {
      "cell_type": "markdown",
      "source": [
        ""
      ],
      "metadata": {
        "id": "LG8BDuVavjfr"
      }
    }
  ]
}