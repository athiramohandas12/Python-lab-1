{
  "nbformat": 4,
  "nbformat_minor": 0,
  "metadata": {
    "colab": {
      "name": "Python lab1 Quo 2.ipynb",
      "provenance": [],
      "collapsed_sections": []
    },
    "kernelspec": {
      "name": "python3",
      "display_name": "Python 3"
    },
    "language_info": {
      "name": "python"
    }
  },
  "cells": [
    {
      "cell_type": "markdown",
      "source": [
        "Develop a program to read the three sides of two triangles and \n",
        "calculate the area of both. Define a function to read the three sides\n",
        "and call it. Also, define a function to calculate the area. Print the total \n",
        "area enclosed by both triangles and each triangle's contribution (%)\n",
        "towards it."
      ],
      "metadata": {
        "id": "P7HwI7y3UwAo"
      }
    },
    {
      "cell_type": "code",
      "source": [
        "def side():\n",
        "\n",
        "  a=int(input('Side1 of triangle:'))\n",
        "  b=int(input('Side2 of triange:')) \n",
        "  c=int(input('Side3 of triange:')) \n",
        "  return a,b,c\n",
        "def area():\n",
        "  a,b,c=side()\n",
        "  print (a,b,c) \n",
        "  s =(a+b+c)*0.5\n",
        "  areaOfTriangle=(s*(s-a)*(s-b)*(s-c))**0.5\n",
        "  print('Area of Triangle',areaOfTriangle)\n",
        "  return areaOfTriangle\n",
        "def contribution():\n",
        "  \n",
        "  a1=area()\n",
        "  a2=area()\n",
        "  c1=(a1/(a1+a2))*100\n",
        "  c2=(a2/(a1+a2))*100\n",
        "  print('Contribution of 1st triangle ',c1)\n",
        "  print('Contribution of 2nd triangle',c2)\n",
        "contribution()"
      ],
      "metadata": {
        "id": "L9rp0oRYSUa8",
        "colab": {
          "base_uri": "https://localhost:8080/"
        },
        "outputId": "9e55a6d8-aed2-4c8d-c871-932574054290"
      },
      "execution_count": null,
      "outputs": [
        {
          "output_type": "stream",
          "name": "stdout",
          "text": [
            "Side1 of triangle:5\n",
            "Side2 of triange:6\n",
            "Side3 of triange:7\n",
            "5 6 7\n",
            "Area of Triangle 14.696938456699069\n",
            "Side1 of triangle:8\n",
            "Side2 of triange:9\n",
            "Side3 of triange:7\n",
            "8 9 7\n",
            "Area of Triangle 26.832815729997478\n",
            "Contribution of 1st triangle  35.3889367864523\n",
            "Contribution of 2nd triangle 64.6110632135477\n"
          ]
        }
      ]
    }
  ]
}