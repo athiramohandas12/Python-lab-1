{
  "nbformat": 4,
  "nbformat_minor": 0,
  "metadata": {
    "colab": {
      "name": "Python lab1 Quo 2.ipynb",
      "provenance": [],
      "collapsed_sections": []
    },
    "kernelspec": {
      "name": "python3",
      "display_name": "Python 3"
    },
    "language_info": {
      "name": "python"
    }
  },
  "cells": [
    {
      "cell_type": "markdown",
      "source": [
        "\n",
        "\n",
        "\n",
        "<style type=\"text/css\">\n",
        ".tg  {border-collapse:collapse;border-spacing:0;}\n",
        ".tg td{border-color:black;border-style:solid;border-width:1px;font-family:Arial, sans-serif;font-size:14px;\n",
        "  overflow:hidden;padding:10px 5px;word-break:normal;}\n",
        ".tg th{border-color:black;border-style:solid;border-width:1px;font-family:Arial, sans-serif;font-size:14px;\n",
        "  font-weight:normal;overflow:hidden;padding:10px 5px;word-break:normal;}\n",
        ".tg .tg-0pky{border-color:inherit;text-align:left;vertical-align:top}\n",
        "</style>\n",
        "<table class=\"tg\">\n",
        "<thead>\n",
        "  <tr>\n",
        "    <th class=\"tg-0pky\">Test case <br>no</th>\n",
        "    <th class=\"tg-0pky\">Description</th>\n",
        "    <th class=\"tg-0pky\">Input</th>\n",
        "    <th class=\"tg-0pky\">Expected output</th>\n",
        "    <th class=\"tg-0pky\">Actual <br>output</th>\n",
        "    <th class=\"tg-0pky\">Result</th>\n",
        "  </tr>\n",
        "</thead>\n",
        "<tbody>\n",
        "  <tr>\n",
        "    <td class=\"tg-0pky\">1</td>\n",
        "    <td class=\"tg-0pky\">Check whether this program is correct</td>\n",
        "    <td class=\"tg-0pky\">5,6,7<br>8,9,7</td>\n",
        "    <td class=\"tg-0pky\">Area=14.69<br>Area=26.83<br>Contribution=35.388<br>Contribution=64.611</td>\n",
        "    <td class=\"tg-0pky\">Area=14.69<br>Area=26.83<br>Contribution=35.388<br>Contribution=64.611</td>\n",
        "    <td class=\"tg-0pky\">passed</td>\n",
        "  </tr>\n",
        "</tbody>\n",
        "</table>\n",
        "\n"
      ],
      "metadata": {
        "id": "B4lI4ooilMhH"
      }
    },
    {
      "cell_type": "markdown",
      "source": [
        "Develop a program to read the three sides of two triangles and \n",
        "calculate the area of both. Define a function to read the three sides\n",
        "and call it. Also, define a function to calculate the area. Print the total \n",
        "area enclosed by both triangles and each triangle's contribution (%)\n",
        "towards it."
      ],
      "metadata": {
        "id": "P7HwI7y3UwAo"
      }
    },
    {
      "cell_type": "code",
      "source": [
        "def side():\n",
        "\n",
        "  a=int(input('Side1 of triangle:'))\n",
        "  b=int(input('Side2 of triange:')) \n",
        "  c=int(input('Side3 of triange:')) \n",
        "  return a,b,c\n",
        "def area():\n",
        "  a,b,c=side()\n",
        "  print (a,b,c) \n",
        "  s =(a+b+c)*0.5\n",
        "  areaOfTriangle=(s*(s-a)*(s-b)*(s-c))**0.5\n",
        "  print('Area of Triangle',areaOfTriangle)\n",
        "  return areaOfTriangle\n",
        "def contribution():\n",
        "  \n",
        "  a1=area()\n",
        "  a2=area()\n",
        "  c1=(a1/(a1+a2))*100\n",
        "  c2=(a2/(a1+a2))*100\n",
        "  print('Contribution of 1st triangle ',c1)\n",
        "  print('Contribution of 2nd triangle',c2)\n",
        "contribution()"
      ],
      "metadata": {
        "id": "L9rp0oRYSUa8",
        "colab": {
          "base_uri": "https://localhost:8080/"
        },
        "outputId": "9e55a6d8-aed2-4c8d-c871-932574054290"
      },
      "execution_count": null,
      "outputs": [
        {
          "output_type": "stream",
          "name": "stdout",
          "text": [
            "Side1 of triangle:5\n",
            "Side2 of triange:6\n",
            "Side3 of triange:7\n",
            "5 6 7\n",
            "Area of Triangle 14.696938456699069\n",
            "Side1 of triangle:8\n",
            "Side2 of triange:9\n",
            "Side3 of triange:7\n",
            "8 9 7\n",
            "Area of Triangle 26.832815729997478\n",
            "Contribution of 1st triangle  35.3889367864523\n",
            "Contribution of 2nd triangle 64.6110632135477\n"
          ]
        }
      ]
    }
  ]
}