{
  "nbformat": 4,
  "nbformat_minor": 0,
  "metadata": {
    "colab": {
      "name": "Python lab1 Quo1.ipynb",
      "provenance": [],
      "collapsed_sections": []
    },
    "kernelspec": {
      "name": "python3",
      "display_name": "Python 3"
    },
    "language_info": {
      "name": "python"
    }
  },
  "cells": [
    {
      "cell_type": "markdown",
      "source": [
        "Develop a program to read a four-digit number and find its\n",
        "\n",
        "a. Sum of digits\n",
        "\n",
        "b. Reverse\n",
        "\n",
        "c. Difference between the product of digits at the odd position\n",
        "and the product of digits at the even position."
      ],
      "metadata": {
        "id": "nbnwoy7STkCJ"
      }
    },
    {
      "cell_type": "code",
      "execution_count": null,
      "metadata": {
        "id": "5GXFBTJGTg4v"
      },
      "outputs": [],
      "source": [
        "a=int(input('Enter a four digit number:'))\n",
        "dig4=a%10\n",
        "a=a//10\n",
        "dig3=a%10\n",
        "a=a//10\n",
        "dig2=a%10\n",
        "a=a//10\n",
        "dig1=a%10\n",
        "sum=dig1+dig2+dig3+dig4\n",
        "rev=(dig4*1000)+(dig3*100)+(dig2*10)+dig1\n",
        "diff=((dig1*dig3)-(dig2*dig4))\n",
        "print('sum=',sum)\n",
        "print('Reverse=',rev)\n",
        "print('Difference =',diff)\n"
      ]
    }
  ]
}