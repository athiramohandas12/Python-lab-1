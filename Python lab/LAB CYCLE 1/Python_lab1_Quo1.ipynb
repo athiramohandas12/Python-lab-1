{
  "nbformat": 4,
  "nbformat_minor": 0,
  "metadata": {
    "colab": {
      "name": "Python lab1 Quo1.ipynb",
      "provenance": [],
      "collapsed_sections": []
    },
    "kernelspec": {
      "name": "python3",
      "display_name": "Python 3"
    },
    "language_info": {
      "name": "python"
    }
  },
  "cells": [
    {
      "cell_type": "markdown",
      "source": [
        "<style type=\"text/css\">\n",
        ".tg  {border-collapse:collapse;border-spacing:0;}\n",
        ".tg td{border-color:black;border-style:solid;border-width:1px;font-family:Arial, sans-serif;font-size:14px;\n",
        "  overflow:hidden;padding:10px 5px;word-break:normal;}\n",
        ".tg th{border-color:black;border-style:solid;border-width:1px;font-family:Arial, sans-serif;font-size:14px;\n",
        "  font-weight:normal;overflow:hidden;padding:10px 5px;word-break:normal;}\n",
        ".tg .tg-0pky{border-color:inherit;text-align:left;vertical-align:top}\n",
        "</style>\n",
        "<table class=\"tg\">\n",
        "<thead>\n",
        "  <tr>\n",
        "    <th class=\"tg-0pky\">Test case <br>no</th>\n",
        "    <th class=\"tg-0pky\">Description</th>\n",
        "    <th class=\"tg-0pky\">Input</th>\n",
        "    <th class=\"tg-0pky\">Expected output</th>\n",
        "    <th class=\"tg-0pky\">Actual <br>output</th>\n",
        "    <th class=\"tg-0pky\">Result</th>\n",
        "  </tr>\n",
        "</thead>\n",
        "<tbody>\n",
        "  <tr>\n",
        "    <td class=\"tg-0pky\">1</td>\n",
        "    <td class=\"tg-0pky\">Check whether this program is correct</td>\n",
        "    <td class=\"tg-0pky\">2452</td>\n",
        "    <td class=\"tg-0pky\">sum=13<br>Reverse=2542<br>Difference=-2</td>\n",
        "    <td class=\"tg-0pky\">sum=13<br>Reverse=2542<br>Difference=-2</td>\n",
        "    <td class=\"tg-0pky\">passed</td>\n",
        "  </tr>\n",
        "  <tr>\n",
        "    <td class=\"tg-0pky\">2</td>\n",
        "    <td class=\"tg-0pky\">Check whether this program is correct</td>\n",
        "    <td class=\"tg-0pky\">1536</td>\n",
        "    <td class=\"tg-0pky\">sum=15<br>Reverse=6351<br>Difference=27</td>\n",
        "    <td class=\"tg-0pky\">sum=15<br>Reverse=6351<br>Difference=27</td>\n",
        "    <td class=\"tg-0pky\">passed</td>\n",
        "  </tr>\n",
        "</tbody>\n",
        "</table>"
      ],
      "metadata": {
        "id": "gN_NTU_3jDsg"
      }
    },
    {
      "cell_type": "markdown",
      "source": [
        "Develop a program to read a four-digit number and find its\n",
        "\n",
        "a. Sum of digits\n",
        "\n",
        "b. Reverse\n",
        "\n",
        "c. Difference between the product of digits at the odd position\n",
        "and the product of digits at the even position."
      ],
      "metadata": {
        "id": "nbnwoy7STkCJ"
      }
    },
    {
      "cell_type": "code",
      "execution_count": null,
      "metadata": {
        "id": "5GXFBTJGTg4v"
      },
      "outputs": [],
      "source": [
        "a=int(input('Enter a four digit number:'))\n",
        "dig4=a%10\n",
        "a=a//10\n",
        "dig3=a%10\n",
        "a=a//10\n",
        "dig2=a%10\n",
        "a=a//10\n",
        "dig1=a%10\n",
        "sum=dig1+dig2+dig3+dig4\n",
        "rev=(dig4*1000)+(dig3*100)+(dig2*10)+dig1\n",
        "diff=((dig1*dig3)-(dig2*dig4))\n",
        "print('sum=',sum)\n",
        "print('Reverse=',rev)\n",
        "print('Difference =',diff)\n"
      ]
    }
  ]
}