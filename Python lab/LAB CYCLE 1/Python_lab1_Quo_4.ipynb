{
  "nbformat": 4,
  "nbformat_minor": 0,
  "metadata": {
    "colab": {
      "name": "Python lab1 Quo 4.ipynb",
      "provenance": [],
      "collapsed_sections": []
    },
    "kernelspec": {
      "name": "python3",
      "display_name": "Python 3"
    },
    "language_info": {
      "name": "python"
    }
  },
  "cells": [
    {
      "cell_type": "markdown",
      "source": [
        "Develop a program to perform the following task:\n",
        "\n",
        "\n",
        "a. Define a function to check whether a number is happy or not.\n",
        "\n",
        "\n",
        "b. Define a function to print all happy numbers within a range\n",
        "\n",
        "\n",
        "c. Define a function to print first N happy numbers\n",
        "\n",
        "\n",
        "A happy number is a number defined by the following process:\n",
        "\n",
        "\n",
        "• Starting with any positive integer, replace the number with the \n",
        "sum of the squares of its digits.\n",
        "\n",
        "• Repeat the process until the number equals 1 (where it will \n",
        "stay), or it loops endlessly in a cycle which does not include 1.\n",
        "\n",
        "• Those numbers for which this process ends in 1 are happy."
      ],
      "metadata": {
        "id": "JhqbzlnqRMav"
      }
    },
    {
      "cell_type": "code",
      "execution_count": 6,
      "metadata": {
        "colab": {
          "base_uri": "https://localhost:8080/"
        },
        "id": "EYSJOY7c_6lo",
        "outputId": "08cd9b19-e3d9-4a5d-e0eb-4302e346c679"
      },
      "outputs": [
        {
          "output_type": "stream",
          "name": "stdout",
          "text": [
            "Enter a number 4\n",
            "Sad\n",
            "\n",
            "Enter upper range: 3\n",
            "Enter lower range: 8\n",
            "\n",
            "Happy numbers from  3  to  8  are: \n",
            "7\n",
            "\n",
            "Enter how many happy numbers do you want to print: 3\n",
            "First  3  happy numbers are: \n",
            "1\n",
            "7\n",
            "10\n"
          ]
        }
      ],
      "source": [
        "\n",
        "a = int(input(\"Enter a number \"))\n",
        "def happy(a):\n",
        "    num = a\n",
        "    for i in range(100):\n",
        "        s = 0\n",
        "        while num!= 0:\n",
        "            r = num%10\n",
        "            s += r*r\n",
        "            num = num//10\n",
        "        num = s\n",
        "        if s == 1:\n",
        "           return True\n",
        "    return False\n",
        "if happy(a) == True:\n",
        "    print(\"Happy\")\n",
        "else:\n",
        "    print(\"Sad\")\n",
        "def h_range():\n",
        "    u=int(input(\"\\nEnter upper range: \"))\n",
        "    l=int(input(\"Enter lower range: \"))\n",
        "    print(\"\\nHappy numbers from \",u,\" to \",l,\" are: \")\n",
        "    for i in range(u,l+1):\n",
        "        if happy(i)==True:\n",
        "           print(i)\n",
        "h_range()\n",
        "\n",
        "def n_happy():\n",
        "    n = int(input(\"\\nEnter how many happy numbers do you want to print: \"))\n",
        "    print(\"First \",n,\" happy numbers are: \")\n",
        "    i=0\n",
        "    while n != 0:\n",
        "        i += 1\n",
        "        if happy(i) == True:\n",
        "            n -= 1\n",
        "            print(i)\n",
        "n_happy()\n",
        "\n",
        "    "
      ]
    }
  ]
}