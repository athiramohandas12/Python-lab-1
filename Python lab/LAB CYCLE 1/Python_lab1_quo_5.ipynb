{
  "nbformat": 4,
  "nbformat_minor": 0,
  "metadata": {
    "colab": {
      "name": "Python lab1 quo 5.ipynb",
      "provenance": [],
      "collapsed_sections": []
    },
    "kernelspec": {
      "name": "python3",
      "display_name": "Python 3"
    },
    "language_info": {
      "name": "python"
    }
  },
  "cells": [
    {
      "cell_type": "markdown",
      "source": [
        "<style type=\"text/css\">\n",
        ".tg  {border-collapse:collapse;border-spacing:0;}\n",
        ".tg td{border-color:black;border-style:solid;border-width:1px;font-family:Arial, sans-serif;font-size:14px;\n",
        "  overflow:hidden;padding:10px 5px;word-break:normal;}\n",
        ".tg th{border-color:black;border-style:solid;border-width:1px;font-family:Arial, sans-serif;font-size:14px;\n",
        "  font-weight:normal;overflow:hidden;padding:10px 5px;word-break:normal;}\n",
        ".tg .tg-0pky{border-color:inherit;text-align:left;vertical-align:top}\n",
        "</style>\n",
        "<table class=\"tg\">\n",
        "<thead>\n",
        "  <tr>\n",
        "    <th class=\"tg-0pky\">Test case <br>no</th>\n",
        "    <th class=\"tg-0pky\">Description</th>\n",
        "    <th class=\"tg-0pky\">Input</th>\n",
        "    <th class=\"tg-0pky\">Expected output</th>\n",
        "    <th class=\"tg-0pky\">Actual Output</th>\n",
        "    <th class=\"tg-0pky\">Result</th>\n",
        "  </tr>\n",
        "</thead>\n",
        "<tbody>\n",
        "  <tr>\n",
        "    <td class=\"tg-0pky\">1</td>\n",
        "    <td class=\"tg-0pky\">Check whether this program is correct</td>\n",
        "    <td class=\"tg-0pky\">aab</td>\n",
        "    <td class=\"tg-0pky\">a,aa,aab,a,ab,b<br>aa,ab<br>ab<br>aab<br>a,aa,a,b</td>\n",
        "    <td class=\"tg-0pky\">a,aa,aab,a,ab,b<br>aa,ab,<br>ab.<br>aab,<br>a,aa,a,b</td>\n",
        "    <td class=\"tg-0pky\">passed</td>\n",
        "  </tr>\n",
        "</tbody>\n",
        "</table>"
      ],
      "metadata": {
        "id": "n0q0MdrXucJe"
      }
    },
    {
      "cell_type": "markdown",
      "source": [
        "Develop a program to read a string and perform the following \n",
        "operations:\n",
        "\n",
        "• Print all possible substring \n",
        "\n",
        "• Print all possible substrings of length K\n",
        "\n",
        "• Print all possible substrings of length K with N distinct \n",
        "characters\n",
        "\n",
        "• Print all palindrome substring"
      ],
      "metadata": {
        "id": "WEhp3IO0fZZO"
      }
    },
    {
      "cell_type": "code",
      "source": [
        "def substring(name):\n",
        "  for i in range(0,len(name)+1):\n",
        "    for j in range(i+1,len(name)+1):\n",
        "      s = name[i:j]\n",
        "      print(s,end=\" , \")\n",
        "def substring_length(name,size):\n",
        "  for i in range(0,len(name)+1):\n",
        "    for j in range(i+1,len(name)+1):\n",
        "      s = name[i:j]\n",
        "      if len(s)==size:\n",
        "        print(s,end=\" , \")\n",
        "def substring_length_N_char(name,size,N):\n",
        "  for i in range(0,len(name)+1):\n",
        "    for j in range(i+1,len(name)+1):\n",
        "      s = name[i:j]\n",
        "      if len(s)==size:\n",
        "        distinct = set(s)\n",
        "        if len(distinct) == N:\n",
        "          print(s,end=\" , \")\n",
        "def substring_maxlength_N_char(name,N):\n",
        "  string_list = []\n",
        "  for i in range(0,len(name)+1):\n",
        "    for j in range(i+1,len(name)+1):\n",
        "      s = name[i:j]\n",
        "      distinct = set(s)\n",
        "      if len(distinct) == N:\n",
        "        string_list.append(s)\n",
        "\n",
        "  length = len(max(string_list,key = len)) \n",
        "  for i in string_list:\n",
        "    if len(i)==length:\n",
        "      print(i,end=\" , \")\n",
        "def print_paliandrome(name):\n",
        "  for i in range(0,len(name)+1):\n",
        "    for j in range(i+1,len(name)+1):\n",
        "      s = name[i:j]\n",
        "      reverse = s[::-1]\n",
        "      if reverse == s:\n",
        "        print(s , end = \" , \")\n",
        "\n",
        "\n",
        "name = input(\"Enter the string \")\n",
        "print(\"Possible Sub Strings are\")\n",
        "substring(name)\n",
        "\n",
        "length = int(input(\"\\nEnter the length of the substring \"))\n",
        "print(\"\\nPossible Sub Strings with length \",length,\" are\")\n",
        "substring_length(name,length) \n",
        "\n",
        "num_of_distinct = int(input(\"\\nEnter the no of distinct characters\"))\n",
        "print(\"\\nPossible Sub Strings with length \",length,\"and \",num_of_distinct,\" distinct characters are\")\n",
        "substring_length_N_char(name,length,num_of_distinct)\n",
        "print(\"\\nSub Strings with Maximum Length and \",num_of_distinct,\" characters\")\n",
        "substring_maxlength_N_char(name,num_of_distinct)\n",
        "print(\"\\nThe Paliandrome Strings are \")\n",
        "print_paliandrome(name)"
      ],
      "metadata": {
        "colab": {
          "base_uri": "https://localhost:8080/"
        },
        "id": "ru5q6s4QpBSE",
        "outputId": "17bd213a-fa4d-49f4-842b-f9f3a4569660"
      },
      "execution_count": null,
      "outputs": [
        {
          "output_type": "stream",
          "name": "stdout",
          "text": [
            "Enter the string aab\n",
            "Possible Sub Strings are\n",
            "a , aa , aab , a , ab , b , \n",
            "Enter the length of the substring 2\n",
            "\n",
            "Possible Sub Strings with length  2  are\n",
            "aa , ab , \n",
            "Enter the no of distinct characters2\n",
            "\n",
            "Possible Sub Strings with length  2 and  2  distinct characters are\n",
            "ab , \n",
            "Sub Strings with Maximum Length and  2  characters\n",
            "aab , \n",
            "The Paliandrome Strings are \n",
            "a , aa , a , b , "
          ]
        }
      ]
    }
  ]
}