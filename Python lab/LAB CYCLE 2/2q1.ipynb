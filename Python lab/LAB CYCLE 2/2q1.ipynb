{
  "nbformat": 4,
  "nbformat_minor": 0,
  "metadata": {
    "colab": {
      "name": "2q1.ipynb",
      "provenance": []
    },
    "kernelspec": {
      "name": "python3",
      "display_name": "Python 3"
    },
    "language_info": {
      "name": "python"
    }
  },
  "cells": [
    {
      "cell_type": "markdown",
      "source": [
        "Suppose a newly born pair of rabbits, one male and one female, are \n",
        "put in a field. Rabbits can mate at the age of one month so that at the \n",
        "end of its second month, a female has produced another pair of \n",
        "rabbits. Suppose that our rabbits never die and that the female always \n",
        "produces one new pair every month from the second month.\n",
        "\n",
        "\n",
        "Develop a program to show a table containing the number of pairs of \n",
        "rabbits in the first N months."
      ],
      "metadata": {
        "id": "5ZcMvJkTVDrz"
      }
    },
    {
      "cell_type": "code",
      "execution_count": 3,
      "metadata": {
        "colab": {
          "base_uri": "https://localhost:8080/"
        },
        "id": "fNjBvNQNNNzd",
        "outputId": "8f615b38-c386-40d4-e0e7-74cf1a5f72a0"
      },
      "outputs": [
        {
          "output_type": "stream",
          "name": "stdout",
          "text": [
            "Enter number of month  : 7\n",
            "\n",
            "Months\t\tNo of Pairs of Rabbit\n",
            "1\t\t1\n",
            "2\t\t1\n",
            "3\t\t2\n",
            "4\t\t3\n",
            "5\t\t5\n",
            "6\t\t8\n",
            "7\t\t13\n"
          ]
        }
      ],
      "source": [
        "n = int(input(\"Enter number of month  : \"))\n",
        "pair_of_rabbit = [1,1]\n",
        "print(\"\\nMonths\\t\\tNo of Pairs of Rabbit\")\n",
        "for i in range(0,n): \n",
        "  print(i+1,end=\"\\t\\t\")\n",
        "  print(pair_of_rabbit[i])\n",
        "  pair_of_rabbit.append(pair_of_rabbit[i]+pair_of_rabbit[i+1])"
      ]
    }
  ]
}