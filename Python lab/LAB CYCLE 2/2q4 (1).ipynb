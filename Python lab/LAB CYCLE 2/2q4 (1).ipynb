{
  "nbformat": 4,
  "nbformat_minor": 0,
  "metadata": {
    "colab": {
      "name": "2q4.ipynb",
      "provenance": []
    },
    "kernelspec": {
      "name": "python3",
      "display_name": "Python 3"
    },
    "language_info": {
      "name": "python"
    }
  },
  "cells": [
    {
      "cell_type": "markdown",
      "source": [
        "Write a program to create a class Box with data members length, \n",
        "breadth, height, area, and volume. Provider constructor that enables \n",
        "initialization with one parameter (for cube), two parameters (for\n",
        "square prism) three parameters (rectangular prism). Also, provide \n",
        "functions to calculate area and volume.\n",
        "Create a list of N boxes with random measurements and print the \n",
        "details of the box with maximum volume: area ratio"
      ],
      "metadata": {
        "id": "z4O_jWIGBz5S"
      }
    },
    {
      "cell_type": "code",
      "execution_count": 5,
      "metadata": {
        "colab": {
          "base_uri": "https://localhost:8080/"
        },
        "id": "D62IKfq6ByRB",
        "outputId": "7186983a-2682-4be2-ab25-3af8b4c4ac75"
      },
      "outputs": [
        {
          "output_type": "stream",
          "name": "stdout",
          "text": [
            "Cube Prism - Dimension [117]\n",
            "The area is  13689\n",
            "The volume is  1601613 \n",
            "\n",
            "Square Prism - Dimension [361, 816]\n",
            "The area is  130321\n",
            "The volume is  106341936 \n",
            "\n",
            "Rectangular Prism - Dimension [363, 265, 940]\n",
            "The area is  96195\n",
            "The volume is  90423300 \n",
            "\n",
            "Rectangular Prism with Maximum Volume : Area -  [363, 265, 940]\n"
          ]
        }
      ],
      "source": [
        "import random\n",
        "\n",
        "class Box:\n",
        "  def __init__(s,*arg):\n",
        "    if len(arg) == 1:\n",
        "      s.length = arg[0]\n",
        "      s.breadth = arg[0]\n",
        "      s.height = arg[0]\n",
        "    elif len(arg) == 2:\n",
        "      s.length = arg[0]\n",
        "      s.breadth = arg[0]\n",
        "      s.height = arg[1]\n",
        "    else:\n",
        "      s.length = arg[0]\n",
        "      s.breadth = arg[1]\n",
        "      s.height = arg[2]\n",
        "  def area(s):\n",
        "    s.area = s.length*s.breadth\n",
        "    return s.area\n",
        "\n",
        "  def volume(s):\n",
        "    s.volume = s.length*s.breadth*s.height\n",
        "    return s.volume\n",
        "  \n",
        "  def dis_area(s):\n",
        "    print(\"The area is \",s.area)\n",
        " \n",
        "  def dis_volume(s):\n",
        "    print(\"The volume is \",s.volume,\"\\n\")\n",
        "\n",
        "ratio = []\n",
        "\n",
        "cube_dimension = []\n",
        "cube_dimension.append(random.randint(1,1000))\n",
        "print(\"Cube Prism - Dimension\" , end = \" \")\n",
        "print(cube_dimension)\n",
        "\n",
        "cube_prism = Box(cube_dimension[0])\n",
        "area1=cube_prism.area()\n",
        "volume1=cube_prism.volume()\n",
        "cube_prism.dis_area()\n",
        "cube_prism.dis_volume()\n",
        "\n",
        "ratio.append((volume1/area1))\n",
        "\n",
        "square_dimension = []\n",
        "for i in range(2):\n",
        "  square_dimension.append(random.randint(1,1000))\n",
        "print(\"Square Prism - Dimension\" , end = \" \")\n",
        "print(square_dimension)\n",
        "\n",
        "square_prism = Box(square_dimension[0],square_dimension[1])\n",
        "area2=square_prism.area()\n",
        "volume2=square_prism.volume()\n",
        "square_prism.dis_area()\n",
        "square_prism.dis_volume()\n",
        "\n",
        "ratio.append((volume2/area2))\n",
        "\n",
        "rect_dimension = []\n",
        "for i in range(3):\n",
        "  rect_dimension.append(random.randint(1,1000))\n",
        "\n",
        "print(\"Rectangular Prism - Dimension\" , end = \" \")\n",
        "print(rect_dimension)\n",
        "rect_prism = Box(rect_dimension[0],rect_dimension[1],rect_dimension[2])\n",
        "area3 =rect_prism.area()\n",
        "volume3 =rect_prism.volume()\n",
        "rect_prism.dis_area()\n",
        "rect_prism.dis_volume()\n",
        "\n",
        "ratio.append((volume3/area3))\n",
        "index = ratio.index(max(ratio))\n",
        "\n",
        "if index == 0:\n",
        "  print(\"Cube Prism with Maximum Volume : Area - \", end=\" \")\n",
        "  print(cube_dimension)\n",
        "elif index == 1:\n",
        "  print(\"Square Prism with Maximum Volume : Area - \" , end=\" \")\n",
        "  print(square_dimension)\n",
        "else:\n",
        "  print(\"Rectangular Prism with Maximum Volume : Area - \", end=\" \")\n",
        "  print(rect_dimension)"
      ]
    }
  ]
}