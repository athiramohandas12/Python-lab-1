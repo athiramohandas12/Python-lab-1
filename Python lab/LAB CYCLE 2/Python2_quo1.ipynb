{
  "nbformat": 4,
  "nbformat_minor": 0,
  "metadata": {
    "colab": {
      "name": "2q1.ipynb",
      "provenance": [],
      "collapsed_sections": []
    },
    "kernelspec": {
      "name": "python3",
      "display_name": "Python 3"
    },
    "language_info": {
      "name": "python"
    }
  },
  "cells": [
    {
      "cell_type": "markdown",
      "source": [
        "Suppose a newly born pair of rabbits, one male and one female, are \n",
        "put in a field. Rabbits can mate at the age of one month so that at the \n",
        "end of its second month, a female has produced another pair of \n",
        "rabbits. Suppose that our rabbits never die and that the female always \n",
        "produces one new pair every month from the second month.\n",
        "\n",
        "\n",
        "Develop a program to show a table containing the number of pairs of \n",
        "rabbits in the first N months."
      ],
      "metadata": {
        "id": "5ZcMvJkTVDrz"
      }
    },
    {
      "cell_type": "code",
      "execution_count": null,
      "metadata": {
        "colab": {
          "base_uri": "https://localhost:8080/"
        },
        "id": "fNjBvNQNNNzd",
        "outputId": "e89dbb7d-a495-478e-f3b3-76b03ca2b3e6"
      },
      "outputs": [
        {
          "output_type": "stream",
          "name": "stdout",
          "text": [
            "Enter the total no of month : 7\n",
            "\n",
            "Months\t\tNo of Pairs \n",
            "1\t\t1\n",
            "2\t\t1\n",
            "3\t\t2\n",
            "4\t\t3\n",
            "5\t\t5\n",
            "6\t\t8\n",
            "7\t\t13\n"
          ]
        }
      ],
      "source": [
        "\n",
        "def Print(n):\n",
        "  rabbit_pair = [1,1]\n",
        "  print(\"\\nMonths\\t\\tNo of Pairs \")\n",
        "  for i in range(0,n):\n",
        "    print(i+1,end=\"\\t\\t\")\n",
        "    print(rabbit_pair[i])\n",
        "    rabbit_pair.append(rabbit_pair[i]+rabbit_pair[i+1])\n",
        "\n",
        "noOfMonths = int(input(\"Enter the total no of month : \"))\n",
        "Print(noOfMonths)"
      ]
    }
  ]
}