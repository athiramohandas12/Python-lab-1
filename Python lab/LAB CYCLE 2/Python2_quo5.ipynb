{
  "nbformat": 4,
  "nbformat_minor": 0,
  "metadata": {
    "colab": {
      "name": "Python2_quo5.ipynb",
      "provenance": [],
      "collapsed_sections": []
    },
    "kernelspec": {
      "name": "python3",
      "display_name": "Python 3"
    },
    "language_info": {
      "name": "python"
    }
  },
  "cells": [
    {
      "cell_type": "markdown",
      "source": [
        "Write a program to create a parent class, 3DShapes, with methods \n",
        "printVolume() and printArea(), which prints the Volume and Area,\n",
        "respectively. Create classes Cylinder and Sphere by inheriting\n",
        "3DShapes class. Using these child classes, calculate and print the\n",
        "volume and area of a cylinder and sphere"
      ],
      "metadata": {
        "id": "5D3Okf9aA7nQ"
      }
    },
    {
      "cell_type": "code",
      "execution_count": null,
      "metadata": {
        "colab": {
          "base_uri": "https://localhost:8080/"
        },
        "id": "7tzN6oid4Nvq",
        "outputId": "5451dbb2-53f7-4278-f2e6-3c49e5ae060d"
      },
      "outputs": [
        {
          "output_type": "stream",
          "name": "stdout",
          "text": [
            "Enter the radius of the cylinder 3\n",
            "Enter the height of the cylinder 2\n",
            "The Area is  94.2\n",
            "The Volume is  56.52\n",
            "\n",
            "Enter the radius of the sphere 2\n",
            "The Area is  50.24\n",
            "The Volume is  33.49\n"
          ]
        }
      ],
      "source": [
        "class shapes:\n",
        "  def printVolume(s):\n",
        "    print(\"The Volume is \",s._volume)\n",
        "  def printArea(s):\n",
        "    print(\"The Area is \",s._area)\n",
        "\n",
        "class cylinder(shapes):\n",
        "\n",
        "  def __init__(s,r,h):\n",
        "    s.radius = r\n",
        "    s.height = h\n",
        "  def area(s):\n",
        "    s._area = 2*3.14*s.radius*(s.radius+s.height)\n",
        "  def volume(s):\n",
        "    s._volume = round((3.14*s.radius*s.radius*s.height),2)\n",
        "\n",
        "class sphere(shapes):\n",
        "  \n",
        "    def __init__(s,r):\n",
        "      s.radius = r\n",
        "    def area(s):\n",
        "      s._area = 4*3.14*s.radius*s.radius\n",
        "    def volume(s):\n",
        "      s._volume = round(((4/3)*3.14*(s.radius**3)),2)\n",
        "\n",
        "cylinder_radius = int(input(\"Enter the radius of the cylinder \"))\n",
        "cylinder_height = int(input(\"Enter the height of the cylinder \"))\n",
        "c_obj = cylinder(cylinder_radius,cylinder_height)\n",
        "c_obj.area()\n",
        "c_obj.printArea()\n",
        "c_obj.volume()\n",
        "c_obj.printVolume()\n",
        "\n",
        "sphere_radius = int(input(\"\\nEnter the radius of the sphere \"))\n",
        "s_obj = sphere(sphere_radius)\n",
        "s_obj.area()\n",
        "s_obj.volume()\n",
        "s_obj.printArea()\n",
        "s_obj.printVolume()"
      ]
    }
  ]
}