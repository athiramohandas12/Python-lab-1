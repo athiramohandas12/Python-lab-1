{
  "nbformat": 4,
  "nbformat_minor": 0,
  "metadata": {
    "colab": {
      "name": "2q5.ipynb",
      "provenance": [],
      "collapsed_sections": []
    },
    "kernelspec": {
      "name": "python3",
      "display_name": "Python 3"
    },
    "language_info": {
      "name": "python"
    }
  },
  "cells": [
    {
      "cell_type": "markdown",
      "source": [
        "Write a program to create a parent class, 3DShapes, with methods \n",
        "printVolume() and printArea(), which prints the Volume and Area,\n",
        "respectively. Create classes Cylinder and Sphere by inheriting\n",
        "3DShapes class. Using these child classes, calculate and print the\n",
        "volume and area of a cylinder and sphere"
      ],
      "metadata": {
        "id": "5D3Okf9aA7nQ"
      }
    },
    {
      "cell_type": "code",
      "execution_count": 26,
      "metadata": {
        "colab": {
          "base_uri": "https://localhost:8080/"
        },
        "id": "7tzN6oid4Nvq",
        "outputId": "1ad01c09-4824-45cf-8c5a-d7afff64b68c"
      },
      "outputs": [
        {
          "output_type": "stream",
          "name": "stdout",
          "text": [
            "Enter the radius of the cylinder 2\n",
            "Enter the height of the cylinder 3\n",
            "The Area is  62.800000000000004\n",
            "The Volume is  37.68\n",
            "\n",
            "Enter the radius of the sphere 4\n",
            "The Area is  200.96\n",
            "The Volume is  267.95\n"
          ]
        }
      ],
      "source": [
        "class shapes:\n",
        "  def printVolume(s):\n",
        "    print(\"The Volume is \",s._volume)\n",
        "  def printArea(s):\n",
        "    print(\"The Area is \",s._area)\n",
        "\n",
        "class cylinder(shapes):\n",
        "\n",
        "  def __init__(s,r,h):\n",
        "    s.radius = r\n",
        "    s.height = h\n",
        "  def area(s):\n",
        "    s._area = 2*3.14*s.radius*(s.radius+s.height)\n",
        "  def volume(s):\n",
        "    s._volume = round((3.14*s.radius*s.radius*s.height),2)\n",
        "\n",
        "class sphere(shapes):\n",
        "  \n",
        "    def __init__(s,r):\n",
        "      s.radius = r\n",
        "    def area(s):\n",
        "      s._area = 4*3.14*s.radius*s.radius\n",
        "    def volume(s):\n",
        "      s._volume = round(((4/3)*3.14*(s.radius**3)),2)\n",
        "\n",
        "cylinder_radius = int(input(\"Enter the radius of the cylinder \"))\n",
        "cylinder_height = int(input(\"Enter the height of the cylinder \"))\n",
        "c_obj = cylinder(cylinder_radius,cylinder_height)\n",
        "c_obj.area()\n",
        "c_obj.printArea()\n",
        "c_obj.volume()\n",
        "c_obj.printVolume()\n",
        "\n",
        "sphere_radius = int(input(\"\\nEnter the radius of the sphere \"))\n",
        "s_obj = sphere(sphere_radius)\n",
        "s_obj.area()\n",
        "s_obj.volume()\n",
        "s_obj.printArea()\n",
        "s_obj.printVolume()"
      ]
    }
  ]
}