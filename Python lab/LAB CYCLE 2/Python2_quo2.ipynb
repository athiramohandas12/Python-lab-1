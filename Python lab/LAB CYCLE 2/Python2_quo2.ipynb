{
  "nbformat": 4,
  "nbformat_minor": 0,
  "metadata": {
    "colab": {
      "name": "Python2_quo2.ipynb",
      "provenance": [],
      "collapsed_sections": []
    },
    "kernelspec": {
      "name": "python3",
      "display_name": "Python 3"
    },
    "language_info": {
      "name": "python"
    }
  },
  "cells": [
    {
      "cell_type": "markdown",
      "source": [
        "Write a program to read a string containing numbers separated by a \n",
        "space and convert it as a list of integers. Perform the following \n",
        "operations on it.\n",
        "1. Rotate elements in a list by 'k' position to the right\n",
        "2. Convert the list into a tuple using list comprehension\n",
        "3. Remove all duplicates from the tuple and convert them \n",
        "into a list again.\n",
        "4. Create another list by putting the results of the evaluation \n",
        "of the function 𝑓(𝑥) = 𝑥2 – 𝑥 with each element in the \n",
        "final list\n",
        "5. After sorting them individually, merge the two lists to \n",
        "create a single sorted list."
      ],
      "metadata": {
        "id": "bC5rJMQmjotD"
      }
    },
    {
      "cell_type": "code",
      "execution_count": null,
      "metadata": {
        "colab": {
          "base_uri": "https://localhost:8080/"
        },
        "id": "YKmeX4P_WzaM",
        "outputId": "6383fed2-6a3a-4c4d-fc30-19e7fcff599d"
      },
      "outputs": [
        {
          "output_type": "stream",
          "name": "stdout",
          "text": [
            "Enter the list of numbers with a space : 1 3 4 6 7 3 2\n",
            "The list of integers =  [1, 3, 4, 6, 7, 3, 2]\n",
            "Enter the value by which you want to rotate : 3\n",
            "The list after rotating by 3 position to right is  = [7, 3, 2, 1, 3, 4, 6]\n",
            "List to Tuple =  (1, 3, 4, 6, 7, 3, 2)\n",
            "Tuple to list after removing duplicates =  [1, 2, 3, 4, 6, 7]\n",
            "Results of the Function f(x) = (x^2-1) =  [0, 2, 6, 12, 30, 42]\n",
            "Final Sorted List =  [0, 1, 2, 2, 3, 4, 6, 6, 7, 12, 30, 42]\n"
          ]
        }
      ],
      "source": [
        "\n",
        "\n",
        "def List_int(stringList):\n",
        "  int_list = [int(i) for i in stringList]\n",
        "  return int_list\n",
        "\n",
        "def Rotate(targetList):\n",
        "  k = int(input(\"Enter the value by which you want to rotate : \"))\n",
        "  print(\"The list after rotating by\",k,\"position to right is \",end = \" = \")\n",
        "  print(targetList[-k:]+targetList[:-k])\n",
        "\n",
        "def listToTuple(int_list):\n",
        "  int_tuple = *(i for i in int_list),\n",
        "  print(\"List to Tuple = \",int_tuple)\n",
        "  return int_tuple\n",
        "\n",
        "def removeDuplicates(int_tuple):\n",
        "  int_tuple = tuple(set(int_tuple))\n",
        "  int_list = list(int_tuple)\n",
        "  return int_list\n",
        "\n",
        "def mapToFunction(int_list):\n",
        "  square = [(i**2)-i for i in int_list]\n",
        "  print(\"Results of the Function f(x) = (x^2-1) = \",square)\n",
        "  return square\n",
        "\n",
        "def Sortedlist(int_list,function_list):\n",
        "  sorted_list = int_list + function_list\n",
        "  sorted_list.sort()\n",
        "  print(\"Final Sorted List = \",sorted_list)\n",
        "\n",
        "number_string = input(\"Enter the list of numbers with a space : \")\n",
        "list_numbers = list(number_string.split(\" \"))\n",
        "\n",
        "int_list = List_int(list_numbers)\n",
        "print(\"The list of integers = \",int_list)\n",
        "\n",
        "Rotate(int_list)\n",
        "int_tuple = listToTuple(int_list)\n",
        "int_list = removeDuplicates(int_tuple)\n",
        "print(\"Tuple to list after removing duplicates = \",int_list)\n",
        "functionResult = mapToFunction(int_list)\n",
        "Sortedlist(int_list,functionResult)\n"
      ]
    }
  ]
}