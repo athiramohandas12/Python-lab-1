{
  "nbformat": 4,
  "nbformat_minor": 0,
  "metadata": {
    "colab": {
      "name": "2q2.ipynb",
      "provenance": [],
      "collapsed_sections": []
    },
    "kernelspec": {
      "name": "python3",
      "display_name": "Python 3"
    },
    "language_info": {
      "name": "python"
    }
  },
  "cells": [
    {
      "cell_type": "markdown",
      "source": [
        "Write a program to read a string containing numbers separated by a \n",
        "space and convert it as a list of integers. Perform the following \n",
        "operations on it.\n",
        "1. Rotate elements in a list by 'k' position to the right\n",
        "2. Convert the list into a tuple using list comprehension\n",
        "3. Remove all duplicates from the tuple and convert them \n",
        "into a list again.\n",
        "4. Create another list by putting the results of the evaluation \n",
        "of the function 𝑓(𝑥) = 𝑥2 – 𝑥 with each element in the \n",
        "final list\n",
        "5. After sorting them individually, merge the two lists to \n",
        "create a single sorted list."
      ],
      "metadata": {
        "id": "bC5rJMQmjotD"
      }
    },
    {
      "cell_type": "code",
      "execution_count": 5,
      "metadata": {
        "colab": {
          "base_uri": "https://localhost:8080/"
        },
        "id": "YKmeX4P_WzaM",
        "outputId": "a05e6026-1295-4278-b041-44045701d173"
      },
      "outputs": [
        {
          "output_type": "stream",
          "name": "stdout",
          "text": [
            "Enter the list of numbers : 6 7 9\n",
            "The list of integers =  [6, 7, 9]\n",
            "Enter the value by which you want to rotate : 9\n",
            "The list after rotating   = [6, 7, 9]\n",
            "List to Tuple =  (6, 7, 9)\n",
            "Tuple to list after removing duplicates  = [9, 6, 7]\n",
            "Results of the Function  = [72, 30, 42]\n",
            "Final Sorted List  = [6, 7, 9, 30, 42, 72]\n"
          ]
        }
      ],
      "source": [
        "no_string = input(\"Enter the list of numbers : \")\n",
        "list_no = list(no_string.split(\" \"))\n",
        "\n",
        "int_list = []\n",
        "for i in list_no:\n",
        "  int_list.append(int(i))\n",
        "print(\"The list of integers = \",int_list)\n",
        "\n",
        "k = int(input(\"Enter the value by which you want to rotate : \"))\n",
        "print(\"The list after rotating  \",end = \" = \")\n",
        "print(int_list[-k:]+int_list[:-k])\n",
        "\n",
        "int_tuple = tuple(int_list)\n",
        "print(\"List to Tuple = \",int_tuple)\n",
        "\n",
        "int_tuple = tuple(set(int_tuple))\n",
        "int_list = list(int_tuple)\n",
        "print(\"Tuple to list after removing duplicates \",end = \" = \")\n",
        "print(int_list)\n",
        "\n",
        "square = []\n",
        "for i in int_list:\n",
        "  square.append((i**2)-i)\n",
        "print(\"Results of the Function \",end = \" = \")\n",
        "print(square)\n",
        "\n",
        "sorted_list = int_list + square\n",
        "sorted_list.sort()\n",
        "print(\"Final Sorted List \",end = \" = \")\n",
        "print(sorted_list)"
      ]
    }
  ]
}