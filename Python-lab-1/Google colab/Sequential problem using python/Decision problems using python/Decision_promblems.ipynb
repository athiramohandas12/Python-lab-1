{
  "nbformat": 4,
  "nbformat_minor": 0,
  "metadata": {
    "colab": {
      "name": "Decision promblems.ipynb",
      "provenance": [],
      "collapsed_sections": []
    },
    "kernelspec": {
      "name": "python3",
      "display_name": "Python 3"
    },
    "language_info": {
      "name": "python"
    }
  },
  "cells": [
    {
      "cell_type": "markdown",
      "source": [
        "<style type=\"text/css\">\n",
        ".tg  {border-collapse:collapse;border-spacing:0;}\n",
        ".tg td{border-color:black;border-style:solid;border-width:1px;font-family:Arial, sans-serif;font-size:14px;\n",
        "  overflow:hidden;padding:10px 5px;word-break:normal;}\n",
        ".tg th{border-color:black;border-style:solid;border-width:1px;font-family:Arial, sans-serif;font-size:14px;\n",
        "  font-weight:normal;overflow:hidden;padding:10px 5px;word-break:normal;}\n",
        ".tg .tg-0pky{border-color:inherit;text-align:left;vertical-align:top}\n",
        ".tg .tg-0lax{text-align:left;vertical-align:top}\n",
        "</style>\n",
        "<table class=\"tg\" style=\"undefined;table-layout: fixed; width: 907px\">\n",
        "<colgroup>\n",
        "<col style=\"width: 114px\">\n",
        "<col style=\"width: 289px\">\n",
        "<col style=\"width: 103px\">\n",
        "<col style=\"width: 118px\">\n",
        "<col style=\"width: 137px\">\n",
        "<col style=\"width: 146px\">\n",
        "</colgroup>\n",
        "<thead>\n",
        "  <tr>\n",
        "    <th class=\"tg-0pky\">Test cases no:&nbsp;&nbsp;&nbsp;</th>\n",
        "    <th class=\"tg-0pky\">&nbsp;&nbsp;&nbsp;&nbsp;&nbsp;&nbsp;&nbsp;&nbsp;&nbsp;&nbsp;&nbsp;&nbsp;&nbsp;&nbsp;&nbsp;&nbsp;&nbsp;&nbsp;&nbsp;Description&nbsp;&nbsp;&nbsp;&nbsp;&nbsp;&nbsp;&nbsp;&nbsp;&nbsp;&nbsp;&nbsp;&nbsp;&nbsp;&nbsp;&nbsp;&nbsp;&nbsp;<br>                         </th>\n",
        "    <th class=\"tg-0pky\">&nbsp;&nbsp;&nbsp;&nbsp;&nbsp;&nbsp;&nbsp;Input&nbsp;&nbsp;&nbsp;&nbsp;&nbsp;&nbsp;&nbsp;&nbsp;</th>\n",
        "    <th class=\"tg-0pky\">Expected output </th>\n",
        "    <th class=\"tg-0pky\">       Actual output    </th>\n",
        "    <th class=\"tg-0pky\">&nbsp;&nbsp;&nbsp;&nbsp;&nbsp;&nbsp;&nbsp;&nbsp;&nbsp;Result&nbsp;&nbsp;&nbsp;&nbsp;&nbsp;&nbsp;&nbsp;&nbsp;&nbsp;&nbsp;&nbsp;</th>\n",
        "  </tr>\n",
        "</thead>\n",
        "<tbody>\n",
        "  <tr>\n",
        "    <td class=\"tg-0pky\">1</td>\n",
        "    <td class=\"tg-0pky\">Check the program \"Biggest of two number\"<br>gives correct output</td>\n",
        "    <td class=\"tg-0pky\">4 and 7</td>\n",
        "    <td class=\"tg-0pky\">7 is the biggest number</td>\n",
        "    <td class=\"tg-0pky\">7 is the biggest number</td>\n",
        "    <td class=\"tg-0pky\">passed</td>\n",
        "  </tr>\n",
        "  <tr>\n",
        "    <td class=\"tg-0pky\">2</td>\n",
        "    <td class=\"tg-0pky\">Check the program \"Smallest of three number\" gives correct output</td>\n",
        "    <td class=\"tg-0pky\">7,5 and 9</td>\n",
        "    <td class=\"tg-0pky\">5 is the smallest number</td>\n",
        "    <td class=\"tg-0pky\">5 is the smallest number</td>\n",
        "    <td class=\"tg-0pky\">passed</td>\n",
        "  </tr>\n",
        "  <tr>\n",
        "    <td class=\"tg-0pky\">3</td>\n",
        "    <td class=\"tg-0pky\">Check the program \"Distance between two numbers in a number line\" give correct output</td>\n",
        "    <td class=\"tg-0pky\">6 and 9</td>\n",
        "    <td class=\"tg-0pky\">Distance equal to 3</td>\n",
        "    <td class=\"tg-0pky\">Distance equal to 3</td>\n",
        "    <td class=\"tg-0pky\">passed</td>\n",
        "  </tr>\n",
        "  <tr>\n",
        "    <td class=\"tg-0pky\">4</td>\n",
        "    <td class=\"tg-0pky\">Check the program\"Check a number is two digit number\" gives correct output</td>\n",
        "    <td class=\"tg-0pky\">4</td>\n",
        "    <td class=\"tg-0pky\">4 is not a two digit number</td>\n",
        "    <td class=\"tg-0pky\">4 is not a two digit number</td>\n",
        "    <td class=\"tg-0pky\">passed</td>\n",
        "  </tr>\n",
        "  <tr>\n",
        "    <td class=\"tg-0pky\">5</td>\n",
        "    <td class=\"tg-0pky\">Check the program \"Check whether a number is positive negetive or zero\" gives correct output</td>\n",
        "    <td class=\"tg-0pky\">-8</td>\n",
        "    <td class=\"tg-0pky\">-8 is a negetive number</td>\n",
        "    <td class=\"tg-0pky\">-8 is a negetive number</td>\n",
        "    <td class=\"tg-0pky\">passed</td>\n",
        "  </tr>\n",
        "  <tr>\n",
        "    <td class=\"tg-0pky\">6</td>\n",
        "    <td class=\"tg-0pky\">Check the program \"Check whether a number is a multiple of another\" gives correct output</td>\n",
        "    <td class=\"tg-0pky\">2 and 8</td>\n",
        "    <td class=\"tg-0pky\">2 is not a multiple of 8</td>\n",
        "    <td class=\"tg-0pky\">2 is not a multiple of 8</td>\n",
        "    <td class=\"tg-0pky\">passed</td>\n",
        "  </tr>\n",
        "  <tr>\n",
        "    <td class=\"tg-0pky\">7</td>\n",
        "    <td class=\"tg-0pky\">Check the program '\"Smallest digit in two number \"gives correct output</td>\n",
        "    <td class=\"tg-0pky\">56</td>\n",
        "    <td class=\"tg-0pky\">5 is the smallest</td>\n",
        "    <td class=\"tg-0pky\"></td>\n",
        "    <td class=\"tg-0pky\">passed</td>\n",
        "  </tr>\n",
        "  <tr>\n",
        "    <td class=\"tg-0lax\">8</td>\n",
        "    <td class=\"tg-0lax\">Check the program \"Nature of solution of a quadratic equation\" gives correct output</td>\n",
        "    <td class=\"tg-0lax\">4,-4,1</td>\n",
        "    <td class=\"tg-0lax\">Roots are real and same </td>\n",
        "    <td class=\"tg-0lax\">Roots are real and same</td>\n",
        "    <td class=\"tg-0lax\">passed</td>\n",
        "  </tr>\n",
        "</tbody>\n",
        "</table>"
      ],
      "metadata": {
        "id": "ag61odhEKH4K"
      }
    },
    {
      "cell_type": "markdown",
      "source": [
        "**Decision Problems using python**\n",
        "\n",
        "\n"
      ],
      "metadata": {
        "id": "kr-9GhSsnU9f"
      }
    },
    {
      "cell_type": "markdown",
      "source": [
        "\n",
        "\n",
        "   1. Biggest of two number\n",
        " \n",
        "\n"
      ],
      "metadata": {
        "id": "9fHekFt3njMm"
      }
    },
    {
      "cell_type": "code",
      "source": [
        "a=int(input(\"Enter a number :\"))\n",
        "b=int(input(\"Enter another number :\"))\n",
        "if a>b:\n",
        "  print(a,' is biggest number')\n",
        "else:\n",
        "  print(b,' is biggest number')"
      ],
      "metadata": {
        "colab": {
          "base_uri": "https://localhost:8080/"
        },
        "id": "xFkNi7xfn60Z",
        "outputId": "f46d4701-d312-4a50-ce58-aeac62fdb8ea"
      },
      "execution_count": null,
      "outputs": [
        {
          "output_type": "stream",
          "name": "stdout",
          "text": [
            "Enter a number :4\n",
            "Enter another number :7\n",
            "7  is biggest number\n"
          ]
        }
      ]
    },
    {
      "cell_type": "markdown",
      "source": [
        "2. Smallest of three number"
      ],
      "metadata": {
        "id": "yn5Y2bBIrgkN"
      }
    },
    {
      "cell_type": "code",
      "source": [
        "a=int(input(\"Enter the first number :\"))\n",
        "b=int(input(\"Enter the second number :\"))\n",
        "c=int(input(\"Enter the third number :\"))\n",
        "if a<b and a<c:\n",
        "  print(a,'is the smallest number')\n",
        "if b<a and b<c:\n",
        "  print(b,'is the smallest number')\n",
        "if c<a and c<b:\n",
        "  print(c,'is the smallest number')"
      ],
      "metadata": {
        "colab": {
          "base_uri": "https://localhost:8080/"
        },
        "id": "vajKg29sr3YB",
        "outputId": "f2049f02-5f03-4135-dc22-9407f2e88bbe"
      },
      "execution_count": null,
      "outputs": [
        {
          "output_type": "stream",
          "name": "stdout",
          "text": [
            "Enter the first number :7\n",
            "Enter the second number :5\n",
            "Enter the third number :9\n",
            "5 is the smallest number\n"
          ]
        }
      ]
    },
    {
      "cell_type": "markdown",
      "source": [
        "3.Distance between two number in number line"
      ],
      "metadata": {
        "id": "HPsrjPW4viPw"
      }
    },
    {
      "cell_type": "code",
      "source": [
        "a=int(input('Enter the initial point:'))\n",
        "b=int(input('Enter the final point:'))\n",
        "distance=0\n",
        "if a<b:\n",
        "  distance=b-a\n",
        "else :\n",
        "  distance=a-b\n",
        "print('Distance equal to',distance)"
      ],
      "metadata": {
        "colab": {
          "base_uri": "https://localhost:8080/"
        },
        "id": "rIUXkoZfvsnV",
        "outputId": "62c46b35-d0d8-4169-eb4c-c6e838f720e6"
      },
      "execution_count": null,
      "outputs": [
        {
          "output_type": "stream",
          "name": "stdout",
          "text": [
            "Enter the initial point:6\n",
            "Enter the final point:9\n",
            "Distance equal to 3\n"
          ]
        }
      ]
    },
    {
      "cell_type": "markdown",
      "source": [
        "4.Check whether a number is two digit number"
      ],
      "metadata": {
        "id": "s7CnvfjVxrPV"
      }
    },
    {
      "cell_type": "code",
      "source": [
        "a=int(input('Enter a number:'))\n",
        "if a<100 and a>10:\n",
        "    print(a,'is a two digit number')\n",
        "else:\n",
        "   print(a,'is not a two digit number')"
      ],
      "metadata": {
        "colab": {
          "base_uri": "https://localhost:8080/"
        },
        "id": "HKwkgavLx3qx",
        "outputId": "ab8b7054-ac48-49f1-848b-21f5906a690a"
      },
      "execution_count": null,
      "outputs": [
        {
          "output_type": "stream",
          "name": "stdout",
          "text": [
            "Enter a number:4\n",
            "4 is not a two digit number\n"
          ]
        }
      ]
    },
    {
      "cell_type": "markdown",
      "source": [
        "5.Check whether a number is positive, negetive or zero"
      ],
      "metadata": {
        "id": "6p6QXc6By-bZ"
      }
    },
    {
      "cell_type": "code",
      "source": [
        "a=int(input('Enter a number:'))\n",
        "if a<0:\n",
        "  print(a,'is a negetive number')\n",
        "elif a==0:\n",
        "  print(a,'is zero')\n",
        "else:\n",
        "  print(a,'is a positive number')\n"
      ],
      "metadata": {
        "colab": {
          "base_uri": "https://localhost:8080/"
        },
        "id": "Z7Jpy0alzJwb",
        "outputId": "4daf5821-0cdd-4cd0-909e-82d2c1b9edfb"
      },
      "execution_count": 49,
      "outputs": [
        {
          "output_type": "stream",
          "name": "stdout",
          "text": [
            "Enter a number:-8\n",
            "-8 is a negetive number\n"
          ]
        }
      ]
    },
    {
      "cell_type": "markdown",
      "source": [
        "6. Check whether a number is multiple of another"
      ],
      "metadata": {
        "id": "XRGtwtAe0wpG"
      }
    },
    {
      "cell_type": "code",
      "source": [
        "m=int(input('Enter a number:'))\n",
        "n=int(input('Enter another number:'))\n",
        "if m%n==0:\n",
        "   print(m,'is the multiple of',n)\n",
        "else:\n",
        "  print(m,'is not a multiple of ',n)"
      ],
      "metadata": {
        "colab": {
          "base_uri": "https://localhost:8080/"
        },
        "id": "xAxwGM4t1R8H",
        "outputId": "45110d49-74e9-4878-8db3-5d78e6fd665a"
      },
      "execution_count": null,
      "outputs": [
        {
          "output_type": "stream",
          "name": "stdout",
          "text": [
            "Enter a number:2\n",
            "Enter another number:8\n",
            "2 is not a multiple of  8\n"
          ]
        }
      ]
    },
    {
      "cell_type": "markdown",
      "source": [
        "7.Smallest didit in two digit number"
      ],
      "metadata": {
        "id": "IY2v001_3GBx"
      }
    },
    {
      "cell_type": "code",
      "source": [
        "a=int(input('Enter a two digit number:'))\n",
        "if a%10<a//10:\n",
        "  print(a%10,'is the smallest')\n",
        "else:\n",
        "  print(a//10,'is the smallest')\n"
      ],
      "metadata": {
        "colab": {
          "base_uri": "https://localhost:8080/"
        },
        "id": "Zbpk_mGa3O3p",
        "outputId": "7138325c-3be1-4bcf-dc0b-fadc586fa1ef"
      },
      "execution_count": null,
      "outputs": [
        {
          "output_type": "stream",
          "name": "stdout",
          "text": [
            "Enter a two digit number:56\n",
            "5 is the smallest\n"
          ]
        }
      ]
    },
    {
      "cell_type": "markdown",
      "source": [
        "8.Nature of solutions of a quandratic equation"
      ],
      "metadata": {
        "id": "WoqxlQuH6TMf"
      }
    },
    {
      "cell_type": "code",
      "source": [
        "a=int(input('Enter the coeffient of x^2:'))\n",
        "b=int(input('Enter the coefficient of x:'))\n",
        "c=int(input('Enter the constant:'))\n",
        "if b^2-4*a*c>0:\n",
        "  print('Roots are real and same')\n",
        "elif b^2-4*a*c==0:\n",
        "  print('Roots are same')\n",
        "else:\n",
        "  print('roots are imaginary')\n"
      ],
      "metadata": {
        "colab": {
          "base_uri": "https://localhost:8080/"
        },
        "id": "TCF-ruYF6zqs",
        "outputId": "fb67dae1-bb3c-46b9-a3b5-b636dc229f9b"
      },
      "execution_count": 59,
      "outputs": [
        {
          "output_type": "stream",
          "name": "stdout",
          "text": [
            "Enter the coeffient of x^2:4\n",
            "Enter the coefficient of x:-4\n",
            "Enter the constant:1\n",
            "Roots are real and same\n"
          ]
        }
      ]
    }
  ]
}