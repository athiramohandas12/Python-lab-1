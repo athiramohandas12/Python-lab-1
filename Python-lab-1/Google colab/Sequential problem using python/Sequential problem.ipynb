{
  "nbformat": 4,
  "nbformat_minor": 0,
  "metadata": {
    "colab": {
      "name": "Untitled1.ipynb",
      "provenance": [],
      "collapsed_sections": []
    },
    "kernelspec": {
      "name": "python3",
      "display_name": "Python 3"
    },
    "language_info": {
      "name": "python"
    }
  },
  "cells": [
    {
      "cell_type": "code",
      "execution_count": null,
      "metadata": {
        "id": "Z2QnUBR01kMg"
      },
      "outputs": [],
      "source": [
        ""
      ]
    },
    {
      "cell_type": "markdown",
      "source": [
        "**Sequential Problems using python**\n"
      ],
      "metadata": {
        "id": "QH6eMsFo1lfS"
      }
    },
    {
      "cell_type": "markdown",
      "source": [
        "\n",
        "\n",
        "> 1.Average of three numbers\n",
        "\n"
      ],
      "metadata": {
        "id": "TqJfoWTl2PZV"
      }
    },
    {
      "cell_type": "code",
      "source": [
        "num1= int(input('Enter number 1:'))\n",
        "num2= int(input('Enter number 2:'))\n",
        "num3= int(input('Enter number 3:'))\n",
        "\n",
        "average=(num1+num2+num3)/3\n",
        "print(\"Average=\",average)"
      ],
      "metadata": {
        "colab": {
          "base_uri": "https://localhost:8080/"
        },
        "id": "sfLR8ZyK2yg1",
        "outputId": "0793e2bd-893f-4d9b-c6d9-ea630a93537b"
      },
      "execution_count": 1,
      "outputs": [
        {
          "output_type": "stream",
          "name": "stdout",
          "text": [
            "Enter number 1:30\n",
            "Enter number 2:60\n",
            "Enter number 3:90\n",
            "Average= 60.0\n"
          ]
        }
      ]
    },
    {
      "cell_type": "markdown",
      "source": [
        "2. Sum and average of three numbers"
      ],
      "metadata": {
        "id": "oMbDgXAj4esg"
      }
    },
    {
      "cell_type": "code",
      "source": [
        "num1= int(input('Enter number 1:'))\n",
        "num2= int(input('Enter number 2:'))\n",
        "num3= int(input('Enter number 3;'))\n",
        "\n",
        "sum=num1+num2+num3\n",
        "average=sum/3\n",
        "\n",
        "print(\"Sum=\",sum)\n",
        "print(\"Average=\",average)"
      ],
      "metadata": {
        "colab": {
          "base_uri": "https://localhost:8080/"
        },
        "id": "-FIySw0C4kDg",
        "outputId": "3411835d-d3f2-4187-e07f-0d065ea06a9c"
      },
      "execution_count": 3,
      "outputs": [
        {
          "output_type": "stream",
          "name": "stdout",
          "text": [
            "Enter number 1:30\n",
            "Enter number 2:60\n",
            "Enter number 3;90\n",
            "Sum= 180\n",
            "Average= 60.0\n"
          ]
        }
      ]
    },
    {
      "cell_type": "markdown",
      "source": [
        "3.Perimeter and area of a triangle"
      ],
      "metadata": {
        "id": "nAc7dq0-LzTs"
      }
    },
    {
      "cell_type": "code",
      "source": [
        "a= float(input('Enter the value of side A='))\n",
        "b= float(input('Enter the value of side B='))\n",
        "c= float(input('Enter the value of side C='))\n",
        "\n",
        "s=(a+b+c)/2\n",
        "perimeter=a+b+c\n",
        "area=(s*(s-a)*(s-b)*(s-c))**0.5\n",
        "\n",
        "print(\"Perimeter=\",perimeter)\n",
        "print(\"Area=\",area)"
      ],
      "metadata": {
        "colab": {
          "base_uri": "https://localhost:8080/"
        },
        "id": "mkQPRw7i6d0N",
        "outputId": "d4c96910-4a27-47df-b5e4-528adee88375"
      },
      "execution_count": 1,
      "outputs": [
        {
          "output_type": "stream",
          "name": "stdout",
          "text": [
            "Enter the value of side A=6\n",
            "Enter the value of side B=8\n",
            "Enter the value of side C=9\n",
            "Perimeter= 23.0\n",
            "Area= 23.525252389719434\n"
          ]
        }
      ]
    },
    {
      "cell_type": "markdown",
      "source": [
        "4.Swapping Variable"
      ],
      "metadata": {
        "id": "yJu2_5Bk-c92"
      }
    },
    {
      "cell_type": "code",
      "source": [
        "a= int(input('Enter a number a='))\n",
        "b= int(input('Enter a number b='))\n",
        "\n",
        "a=a+b\n",
        "b=a-b\n",
        "a=a-b\n",
        "\n",
        "\n",
        "print(\"a=\",a)\n",
        "print(\"b=\",b)"
      ],
      "metadata": {
        "colab": {
          "base_uri": "https://localhost:8080/"
        },
        "id": "9OPETKpe-kXQ",
        "outputId": "b237b79d-32dd-44b0-bc05-98b026b39533"
      },
      "execution_count": 24,
      "outputs": [
        {
          "output_type": "stream",
          "name": "stdout",
          "text": [
            "Enter a number a=9\n",
            "Enter a number b=5\n",
            "a= 5\n",
            "b= 9\n"
          ]
        }
      ]
    },
    {
      "cell_type": "markdown",
      "source": [
        "5.Arithmetic operations"
      ],
      "metadata": {
        "id": "VzZvyjFNDZjm"
      }
    },
    {
      "cell_type": "code",
      "source": [
        "num1= int(input('Enter a number n1='))\n",
        "num2= int(input('Enter a number n2='))\n",
        "\n",
        "sum=num1+num2\n",
        "difference=num1-num2\n",
        "product=num1*num2\n",
        "quotient=num1/num2\n",
        "remainder=num1%num2\n",
        "\n",
        "print(\"Sum=\",sum)\n",
        "print(\"Difference=\",difference)\n",
        "print(\"Product=\",product)\n",
        "print(\"Quoitent=\",quotient)\n",
        "print(\"Remainder=\",remainder)"
      ],
      "metadata": {
        "colab": {
          "base_uri": "https://localhost:8080/"
        },
        "id": "zqCsoXXVDgK2",
        "outputId": "004b1dc2-8065-47b1-e026-1d8a52e582af"
      },
      "execution_count": 8,
      "outputs": [
        {
          "output_type": "stream",
          "name": "stdout",
          "text": [
            "Enter a number n1=12\n",
            "Enter a number n2=5\n",
            "Sum= 17\n",
            "Difference= 7\n",
            "Product= 60\n",
            "Quoitent= 2.4\n",
            "Remainder= 2\n"
          ]
        }
      ]
    },
    {
      "cell_type": "markdown",
      "source": [
        "6.Day conversions"
      ],
      "metadata": {
        "id": "-K6N7xhLFwJw"
      }
    },
    {
      "cell_type": "code",
      "source": [
        "n= int(input('Enter number of days n='))\n",
        "\n",
        "NumberofDays =n/1\n",
        "NumberofMonths=n/30\n",
        "NumberofYears=n/365\n",
        "\n",
        "print(\"Number of days=\",NumberofDays)\n",
        "print(\"Number of months=\",NumberofMonths)\n",
        "print(\"Number of years=\",NumberofYears)"
      ],
      "metadata": {
        "colab": {
          "base_uri": "https://localhost:8080/"
        },
        "id": "YC61p4vlF6Pk",
        "outputId": "dd0f2990-c731-4163-c837-b67312b36ddf"
      },
      "execution_count": 6,
      "outputs": [
        {
          "output_type": "stream",
          "name": "stdout",
          "text": [
            "Enter number of days n=3657\n",
            "Number of days= 3657.0\n",
            "Number of months= 121.9\n",
            "Number of years= 10.01917808219178\n"
          ]
        }
      ]
    },
    {
      "cell_type": "markdown",
      "source": [
        "7.Area of a circle"
      ],
      "metadata": {
        "id": "_23nE8dlG_Rc"
      }
    },
    {
      "cell_type": "code",
      "source": [
        "r= int(input('Enter the radius of the circle r='))\n",
        " \n",
        "area=3.14*r**2\n",
        "print(\"Area of the circle is\",area)"
      ],
      "metadata": {
        "colab": {
          "base_uri": "https://localhost:8080/"
        },
        "id": "qfWIhaXEHEXx",
        "outputId": "d53e4831-d9e8-48dc-98fd-535de65beffa"
      },
      "execution_count": 3,
      "outputs": [
        {
          "output_type": "stream",
          "name": "stdout",
          "text": [
            "Enter the radius of the circle r=5\n",
            "Area of the circle is 78.5\n"
          ]
        }
      ]
    },
    {
      "cell_type": "markdown",
      "source": [
        "8. Time conversions"
      ],
      "metadata": {
        "id": "7UVht6SSI7lS"
      }
    },
    {
      "cell_type": "code",
      "source": [
        "n= int(input('Enter the number of second n='))\n",
        " \n",
        "seconds=n/1\n",
        "minutes=n/60\n",
        "hours=minutes/60\n",
        " \n",
        "print(\"No. of seconds=\",seconds)\n",
        "print(\"No. of minutes=\",minutes)\n",
        "print(\"No. of hours=\", hours)"
      ],
      "metadata": {
        "colab": {
          "base_uri": "https://localhost:8080/"
        },
        "id": "lxFJNTVQJI2s",
        "outputId": "0711a1d4-7b07-4d51-c999-7a86e015a9ee"
      },
      "execution_count": 5,
      "outputs": [
        {
          "output_type": "stream",
          "name": "stdout",
          "text": [
            "Enter the number of second n=14400\n",
            "No. of seconds= 14400.0\n",
            "No. of minutes= 240.0\n",
            "No. of hours= 4.0\n"
          ]
        }
      ]
    }
  ]
}